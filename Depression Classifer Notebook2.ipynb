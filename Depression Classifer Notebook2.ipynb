{
 "cells": [
  {
   "cell_type": "code",
   "execution_count": 1,
   "metadata": {},
   "outputs": [],
   "source": [
    "import re\n",
    "import requests\n",
    "import json\n",
    "import os\n",
    "import pandas as pd\n",
    "import numpy as np\n",
    "import seaborn as sb\n",
    "import warnings\n",
    "import matplotlib.pyplot as plt\n",
    "\n",
    "from operator import itemgetter\n",
    "from nltk import tokenize, sent_tokenize, RegexpTokenizer, ngrams\n",
    "from sklearn.decomposition import PCA\n",
    "from scipy.sparse import hstack\n",
    "# from wordcloud import WordCloud, ImageColorGenerator\n",
    "from sklearn.svm import LinearSVC\n",
    "from nltk.corpus import stopwords\n",
    "from sklearn.utils import shuffle\n",
    "from sklearn.metrics import confusion_matrix\n",
    "from sklearn.preprocessing import LabelEncoder, normalize, Normalizer, MinMaxScaler\n",
    "from sklearn.feature_extraction.text import TfidfVectorizer\n",
    "from sklearn.decomposition import NMF, LatentDirichletAllocation\n",
    "from sklearn.model_selection import train_test_split,cross_val_score, KFold\n",
    "from sklearn.feature_extraction.text import CountVectorizer, TfidfTransformer\n",
    "\n",
    "warnings.simplefilter(\"ignore\")\n",
    "\n",
    "%matplotlib inline"
   ]
  },
  {
   "cell_type": "code",
   "execution_count": 2,
   "metadata": {},
   "outputs": [],
   "source": [
    "def liwc_analysis(text):\n",
    "    X_API_SECRET_KEY = 'tg3OK1kcQdU8RXjx2ghyjNcB6vmg82nYALAS3ImVBYg'\n",
    "    X_API_KEY = '584055def86167059a1c1d34'\n",
    "\n",
    "    header = {}\n",
    "    header['X-API-KEY'] = X_API_KEY\n",
    "    header['X-API-SECRET-KEY'] = X_API_SECRET_KEY\n",
    "    header['Content-type'] = 'application/json'\n",
    "\n",
    "    url = 'https://api-v3.receptiviti.com/v3/api/content'\n",
    "    \n",
    "    \n",
    "    payload = {\"content_source\": 0,\n",
    "                              \"language_content\": text\n",
    "          }\n",
    "    try:    \n",
    "        r = requests.post(url, headers=header, json=payload, timeout=45)\n",
    "        json_to_dump = json.loads(r.text)\n",
    "        return json_to_dump['liwc_scores']['categories']\n",
    "\n",
    "    except Exception as e:\n",
    "        print(\"error\")\n",
    "        pass\n",
    "\n",
    "\n",
    "def create_liwc_df(text,temp):\n",
    "    for i in range(1,len(text)):\n",
    "        print(text[i])\n",
    "        text = liwc_analysis(text[i])\n",
    "        temp_obj = pd.DataFrame(data=text, index=[i])\n",
    "        temp = pd.concat((temp, temp_obj), axis=0)\n",
    "    return temp"
   ]
  },
  {
   "cell_type": "code",
   "execution_count": 3,
   "metadata": {},
   "outputs": [],
   "source": [
    "def generate_wordcloud(text,title,max_words = 50):\n",
    "    words = text['post_text'].str.cat()\n",
    "    \n",
    "    wordcloud = WordCloud(max_words=max_words,background_color='white', max_font_size=50).generate(words)\n",
    "\n",
    "    # Display the generated image:\n",
    "    plt.title(title)\n",
    "    plt.imshow(wordcloud, interpolation='bilinear')\n",
    "    plt.axis(\"off\")\n",
    "    plt.show()\n",
    "\n",
    "def generate_CDF(data):\n",
    "\n",
    "    temp_depression = data['num_words_post'].value_counts().sort_index()\n",
    "    temp_depression /= np.sum(temp_depression.values)\n",
    "    depression_indice_list = temp_depression.index\n",
    "    temp_depression = temp_depression.reset_index().drop('index',axis=1)\n",
    "    CDF_depression = np.zeros(len(temp_depression))\n",
    "    CDF_depression[0] = temp_depression.iloc[0,0]\n",
    "\n",
    "\n",
    "    for i in range(1, len(temp_depression)):\n",
    "        CDF_depression[i] = CDF_depression[i-1] + temp_depression.iloc[i,0]\n",
    "    return CDF_depression, depression_indice_list\n",
    "\n",
    "    \n",
    "    \n",
    "def vector_transformers(text_column):\n",
    "\n",
    "    count_vect = CountVectorizer()\n",
    "    post_text = count_vect.fit_transform(text_column)\n",
    "\n",
    "    tfidf_transformer = TfidfTransformer()\n",
    "    post_text_tfidf = tfidf_transformer.fit_transform(post_text)\n",
    "\n",
    "    return post_text_tfidf\n",
    "\n",
    "\n",
    "# Clean dataset\n",
    "def clean_data(dataset):\n",
    "#     dataset = dataset[dataset['subreddit'] != 'depression']\n",
    "#     dataset = dataset[dataset['subreddit'] != 'AskReddit']\n",
    "    dataset['post_text'] = dataset['post_text'].fillna('')\n",
    "    dataset              = dataset[dataset['post_text'] != '[removed]']\n",
    "    dataset['post_text'] = dataset['post_text'].str.replace('\\r', '')#.apply(lambda x: x.replace('\\r', ''))\n",
    "    dataset['post_text'] = dataset['post_text'].str.replace(\"\\n\", \"\")#.apply(lambda x: x.replace('\\n', ''))\n",
    "    dataset['post_text'] = dataset['post_text'].str.replace(\"\\'\", \"\")#.apply(lambda x: x.replace(\"\\'\", \"\"))\n",
    "    dataset = dataset.dropna().reset_index()\n",
    "\n",
    "    return dataset\n",
    "\n",
    "def post_to_wordlist(post, remove_stopwords=True, split=False):\n",
    "    \n",
    "    post = re.sub(\"[^a-zA-Z]\",\" \", post)\n",
    "    words = post.lower().split()\n",
    "    \n",
    "    if remove_stopwords:\n",
    "        stops = set(stopwords.words(\"english\"))\n",
    "        words = [w for w in words if not w in stops]\n",
    "        \n",
    "    if split:\n",
    "        return words\n",
    "    else:\n",
    "        return (' '.join(words))"
   ]
  },
  {
   "cell_type": "code",
   "execution_count": 4,
   "metadata": {
    "scrolled": true
   },
   "outputs": [
    {
     "name": "stdout",
     "output_type": "stream",
     "text": [
      "Accuracy Score: 0.8746713409290097\n",
      "[[1789  200]\n",
      " [ 229 1205]]\n",
      "AUC Score: 0.8977064777958452\n"
     ]
    }
   ],
   "source": [
    "# Load the data and clean it.\n",
    "# if you have internet connection use the markdown below instead of this code block\n",
    "# use this one only if you have the data file saved on your machine\n",
    "\n",
    "df = pd.read_csv('https://raw.githubusercontent.com/GiladGecht/DepressionResearch/master/depression_neutral_df.csv')\n",
    "df = shuffle(df)\n",
    "encoder = LabelEncoder()\n",
    "df['_subreddit'] = encoder.fit_transform(df['_subreddit'])\n",
    "df['_post_text'] = df['_post_text'].fillna('')\n",
    "df = df.dropna()\n",
    "\n",
    "\n",
    "target = '_subreddit'\n",
    "cols = '_title'\n",
    "\n",
    "X = df[cols]\n",
    "y = df[target]\n",
    "\n",
    "count_vect = CountVectorizer(stop_words='english', lowercase=True,analyzer='word')\n",
    "X = count_vect.fit_transform(X)\n",
    "tfidf_transformer = TfidfTransformer()\n",
    "X = tfidf_transformer.fit_transform(X)\n",
    "\n",
    "X_train, X_test, y_train, y_test = train_test_split(X, y, test_size=0.2, random_state=42)\n",
    "\n",
    "svc = LinearSVC(random_state=42, penalty='l2', dual= True, tol=0.0001, C = 1,\n",
    "                fit_intercept= True, intercept_scaling=1.0, class_weight= None)\n",
    "svc.fit(X_train, y_train)\n",
    "y_pred = svc.predict(X_test)\n",
    "score = svc.score(X_test, y_test)\n",
    "\n",
    "print(\"Accuracy Score:\",score)\n",
    "print(confusion_matrix(y_pred=y_pred,y_true=y_test))\n",
    "print(\"AUC Score:\", np.mean(cross_val_score(svc, X_test, y_test, cv=10, scoring='roc_auc')))\n"
   ]
  },
  {
   "cell_type": "code",
   "execution_count": 5,
   "metadata": {},
   "outputs": [],
   "source": [
    "cm_holder = []\n",
    "kf = KFold(n_splits=5, random_state=42)\n",
    "for train_index, test_index in kf.split(X):\n",
    "    X_train, X_test = X[train_index], X[test_index]\n",
    "    y_train, y_test = y.iloc[train_index], y.iloc[test_index]\n",
    "\n",
    "    svc.fit(X_train, y_train)\n",
    "    cm_holder.append(confusion_matrix(y_test, svc.predict(X_test)))"
   ]
  },
  {
   "cell_type": "code",
   "execution_count": 6,
   "metadata": {},
   "outputs": [
    {
     "name": "stdout",
     "output_type": "stream",
     "text": [
      "Smallest Coefs: \n",
      "['reddit' 'redditors' 'movie' 'askreddit' 'dirty' 'snack' 'hype' 'secret'\n",
      " 'actuslly' 'resolution']\n",
      "\n",
      "Largest Coefs: \n",
      "['depression' 'depressed' 'suicidal' 'suicide' 'feels' 'sad' 'therapist'\n",
      " 'bed' 'rant' 'depressive']\n",
      "\n"
     ]
    }
   ],
   "source": [
    "feature_names = np.array(count_vect.get_feature_names())\n",
    "sorted_coef_index = svc.coef_[0].argsort()\n",
    "\n",
    "print('Smallest Coefs: \\n{}\\n'.format(feature_names[sorted_coef_index[:10]]))\n",
    "print('Largest Coefs: \\n{}\\n'.format(feature_names[sorted_coef_index[:-11:-1]]))"
   ]
  },
  {
   "cell_type": "code",
   "execution_count": 7,
   "metadata": {},
   "outputs": [
    {
     "data": {
      "text/plain": [
       "(460810, 16)"
      ]
     },
     "execution_count": 7,
     "metadata": {},
     "output_type": "execute_result"
    }
   ],
   "source": [
    "# Load main dataset and clean it by removing deleted posts and filling presumed posts with pictures with ''\n",
    "# Apply the trained LinearSVC classifier on the dataset\n",
    "whole_data = pd.read_csv(r'C:\\Users\\Gilad Gecht\\DepressionResearch\\DepressionResearch\\Data\\SubmissionsDF.csv',index_col=0)\n",
    "whole_data = whole_data.drop(['appearance', 'text_changed'], axis=1)\n",
    "whole_data = clean_data(whole_data)\n",
    "whole_data['predicted'] = svc.predict(count_vect.transform(whole_data['title']))\n",
    "whole_data.shape"
   ]
  },
  {
   "cell_type": "code",
   "execution_count": 8,
   "metadata": {},
   "outputs": [],
   "source": [
    "# for the top n common subreddits (probably depression related)\n",
    "# plot the distribution of predicted neutral posts vs depression posts \n",
    "# i.e. subreddit = 'depression', num_posts = 3000, predicted_1 = 2500 (depression), predicted_0 \n",
    "\n",
    "\n",
    "N = whole_data.shape[0]\n",
    "most_common_subreddits = list(whole_data['subreddit'].value_counts().nlargest(N).keys())\n",
    "most_common_subreddits = whole_data[whole_data['subreddit'].isin(most_common_subreddits)]\n",
    "\n",
    "temp = most_common_subreddits['subreddit'].value_counts()\n",
    "sum_subreddit_dict = temp.to_dict()\n",
    "\n",
    "temp = most_common_subreddits.groupby(['subreddit','predicted'], as_index=False).agg({\"submission_id\":\"count\"})\n",
    "temp['appearance'] = temp['subreddit'].apply(lambda x: sum_subreddit_dict[x])\n",
    "temp['submission_id'] /= temp['appearance']\n",
    "\n",
    "pred_depression = temp.iloc[1::2,:]\n",
    "pred_neutral = temp.iloc[::2,:]\n",
    "\n",
    "ind = np.arange(N)\n",
    "width = .35\n",
    "# plt.figure(figsize=(20,8))\n",
    "# p1 = plt.bar(ind, pred_depression['submission_id'], width, edgecolor='k', label='depression')\n",
    "# p2 = plt.bar(ind, pred_neutral['submission_id'], width, edgecolor='k', label='neutral',bottom=pred_depression['submission_id'])\n",
    "\n",
    "\n",
    "# plt.title(\"Distribution of predicted values for N most common subreddits\", size=15)\n",
    "# plt.ylabel('Percentile',size=15)\n",
    "# plt.xlabel('Subreddit', size=15)\n",
    "# plt.xticks(ind, list(pred_depression['subreddit'].values))\n",
    "# plt.legend()\n",
    "# plt.grid()\n",
    "# plt.show()\n"
   ]
  },
  {
   "cell_type": "code",
   "execution_count": 65,
   "metadata": {},
   "outputs": [],
   "source": [
    "N = whole_data.shape[0]\n",
    "most_common_subreddits = list(whole_data['subreddit'].value_counts().nlargest(N).keys())\n",
    "most_common_subreddits = whole_data[whole_data['subreddit'].isin(most_common_subreddits)]\n",
    "\n",
    "temp = most_common_subreddits['subreddit'].value_counts() \n",
    "sum_subreddit_dict = temp.to_dict()\n",
    "temp = most_common_subreddits.groupby(['subreddit','predicted'], as_index=False).agg({\"submission_id\":\"count\"})\n"
   ]
  },
  {
   "cell_type": "code",
   "execution_count": 66,
   "metadata": {},
   "outputs": [],
   "source": [
    "def get_percentage(subreddit, count):\n",
    "    global sum_subreddit_dict\n",
    "    return count / sum_subreddit_dict[subreddit]\n",
    "\n",
    "temp['percentage'] = temp.apply(lambda x: get_percentage(x.subreddit, x.submission_id), axis=1)"
   ]
  },
  {
   "cell_type": "code",
   "execution_count": 67,
   "metadata": {},
   "outputs": [],
   "source": [
    "# temp = temp[(temp['percentage'] > 0.3) & (temp['percentage'] < 0.7)]\n",
    "\n",
    "temp = temp[temp['percentage'] >= 0.7]"
   ]
  },
  {
   "cell_type": "code",
   "execution_count": 68,
   "metadata": {},
   "outputs": [],
   "source": [
    "temp['predicted'] = temp['predicted'].replace({0: \"Neutral\", 1: \"Depression\"})"
   ]
  },
  {
   "cell_type": "code",
   "execution_count": 69,
   "metadata": {},
   "outputs": [],
   "source": [
    "temp.drop('submission_id', axis=1).to_csv('filtered_subreddits.csv', index=False)"
   ]
  },
  {
   "cell_type": "code",
   "execution_count": 70,
   "metadata": {},
   "outputs": [
    {
     "data": {
      "text/html": [
       "<div>\n",
       "<style scoped>\n",
       "    .dataframe tbody tr th:only-of-type {\n",
       "        vertical-align: middle;\n",
       "    }\n",
       "\n",
       "    .dataframe tbody tr th {\n",
       "        vertical-align: top;\n",
       "    }\n",
       "\n",
       "    .dataframe thead th {\n",
       "        text-align: right;\n",
       "    }\n",
       "</style>\n",
       "<table border=\"1\" class=\"dataframe\">\n",
       "  <thead>\n",
       "    <tr style=\"text-align: right;\">\n",
       "      <th></th>\n",
       "      <th>subreddit</th>\n",
       "      <th>predicted</th>\n",
       "      <th>submission_id</th>\n",
       "      <th>percentage</th>\n",
       "    </tr>\n",
       "  </thead>\n",
       "  <tbody>\n",
       "    <tr>\n",
       "      <th>9</th>\n",
       "      <td>2meirl42meirl4meirl</td>\n",
       "      <td>Depression</td>\n",
       "      <td>50</td>\n",
       "      <td>0.909091</td>\n",
       "    </tr>\n",
       "    <tr>\n",
       "      <th>11</th>\n",
       "      <td>2meirl4meirl</td>\n",
       "      <td>Depression</td>\n",
       "      <td>901</td>\n",
       "      <td>0.970905</td>\n",
       "    </tr>\n",
       "    <tr>\n",
       "      <th>12</th>\n",
       "      <td>3DS</td>\n",
       "      <td>Neutral</td>\n",
       "      <td>38</td>\n",
       "      <td>0.703704</td>\n",
       "    </tr>\n",
       "    <tr>\n",
       "      <th>16</th>\n",
       "      <td>40kLore</td>\n",
       "      <td>Neutral</td>\n",
       "      <td>50</td>\n",
       "      <td>0.746269</td>\n",
       "    </tr>\n",
       "    <tr>\n",
       "      <th>28</th>\n",
       "      <td>ACTrade</td>\n",
       "      <td>Neutral</td>\n",
       "      <td>52</td>\n",
       "      <td>0.764706</td>\n",
       "    </tr>\n",
       "    <tr>\n",
       "      <th>64</th>\n",
       "      <td>AmericanHorrorStory</td>\n",
       "      <td>Neutral</td>\n",
       "      <td>53</td>\n",
       "      <td>0.726027</td>\n",
       "    </tr>\n",
       "    <tr>\n",
       "      <th>66</th>\n",
       "      <td>Android</td>\n",
       "      <td>Neutral</td>\n",
       "      <td>45</td>\n",
       "      <td>0.833333</td>\n",
       "    </tr>\n",
       "    <tr>\n",
       "      <th>68</th>\n",
       "      <td>AndroidGaming</td>\n",
       "      <td>Neutral</td>\n",
       "      <td>41</td>\n",
       "      <td>0.820000</td>\n",
       "    </tr>\n",
       "    <tr>\n",
       "      <th>70</th>\n",
       "      <td>AndroidQuestions</td>\n",
       "      <td>Neutral</td>\n",
       "      <td>104</td>\n",
       "      <td>0.764706</td>\n",
       "    </tr>\n",
       "    <tr>\n",
       "      <th>82</th>\n",
       "      <td>Animesuggest</td>\n",
       "      <td>Neutral</td>\n",
       "      <td>113</td>\n",
       "      <td>0.729032</td>\n",
       "    </tr>\n",
       "    <tr>\n",
       "      <th>84</th>\n",
       "      <td>AntiJokes</td>\n",
       "      <td>Neutral</td>\n",
       "      <td>65</td>\n",
       "      <td>0.764706</td>\n",
       "    </tr>\n",
       "    <tr>\n",
       "      <th>87</th>\n",
       "      <td>Anxiety</td>\n",
       "      <td>Depression</td>\n",
       "      <td>1133</td>\n",
       "      <td>0.734284</td>\n",
       "    </tr>\n",
       "    <tr>\n",
       "      <th>88</th>\n",
       "      <td>AnythingGoesNews</td>\n",
       "      <td>Neutral</td>\n",
       "      <td>64</td>\n",
       "      <td>0.752941</td>\n",
       "    </tr>\n",
       "    <tr>\n",
       "      <th>96</th>\n",
       "      <td>Art</td>\n",
       "      <td>Neutral</td>\n",
       "      <td>344</td>\n",
       "      <td>0.788991</td>\n",
       "    </tr>\n",
       "    <tr>\n",
       "      <th>100</th>\n",
       "      <td>AskAnAmerican</td>\n",
       "      <td>Neutral</td>\n",
       "      <td>98</td>\n",
       "      <td>0.837607</td>\n",
       "    </tr>\n",
       "    <tr>\n",
       "      <th>102</th>\n",
       "      <td>AskCulinary</td>\n",
       "      <td>Neutral</td>\n",
       "      <td>45</td>\n",
       "      <td>0.789474</td>\n",
       "    </tr>\n",
       "    <tr>\n",
       "      <th>106</th>\n",
       "      <td>AskEngineers</td>\n",
       "      <td>Neutral</td>\n",
       "      <td>40</td>\n",
       "      <td>0.769231</td>\n",
       "    </tr>\n",
       "    <tr>\n",
       "      <th>108</th>\n",
       "      <td>AskEurope</td>\n",
       "      <td>Neutral</td>\n",
       "      <td>99</td>\n",
       "      <td>0.860870</td>\n",
       "    </tr>\n",
       "    <tr>\n",
       "      <th>110</th>\n",
       "      <td>AskHistorians</td>\n",
       "      <td>Neutral</td>\n",
       "      <td>290</td>\n",
       "      <td>0.926518</td>\n",
       "    </tr>\n",
       "    <tr>\n",
       "      <th>112</th>\n",
       "      <td>AskMen</td>\n",
       "      <td>Neutral</td>\n",
       "      <td>365</td>\n",
       "      <td>0.771670</td>\n",
       "    </tr>\n",
       "    <tr>\n",
       "      <th>114</th>\n",
       "      <td>AskNYC</td>\n",
       "      <td>Neutral</td>\n",
       "      <td>71</td>\n",
       "      <td>0.710000</td>\n",
       "    </tr>\n",
       "    <tr>\n",
       "      <th>118</th>\n",
       "      <td>AskReddit</td>\n",
       "      <td>Neutral</td>\n",
       "      <td>74044</td>\n",
       "      <td>0.858730</td>\n",
       "    </tr>\n",
       "    <tr>\n",
       "      <th>120</th>\n",
       "      <td>AskRedditAfterDark</td>\n",
       "      <td>Neutral</td>\n",
       "      <td>152</td>\n",
       "      <td>0.779487</td>\n",
       "    </tr>\n",
       "    <tr>\n",
       "      <th>122</th>\n",
       "      <td>AskScienceDiscussion</td>\n",
       "      <td>Neutral</td>\n",
       "      <td>47</td>\n",
       "      <td>0.758065</td>\n",
       "    </tr>\n",
       "    <tr>\n",
       "      <th>124</th>\n",
       "      <td>AskScienceFiction</td>\n",
       "      <td>Neutral</td>\n",
       "      <td>96</td>\n",
       "      <td>0.888889</td>\n",
       "    </tr>\n",
       "    <tr>\n",
       "      <th>126</th>\n",
       "      <td>AskUK</td>\n",
       "      <td>Neutral</td>\n",
       "      <td>41</td>\n",
       "      <td>0.732143</td>\n",
       "    </tr>\n",
       "    <tr>\n",
       "      <th>130</th>\n",
       "      <td>AskWomen</td>\n",
       "      <td>Neutral</td>\n",
       "      <td>275</td>\n",
       "      <td>0.820896</td>\n",
       "    </tr>\n",
       "    <tr>\n",
       "      <th>132</th>\n",
       "      <td>AskWomenOver30</td>\n",
       "      <td>Neutral</td>\n",
       "      <td>44</td>\n",
       "      <td>0.758621</td>\n",
       "    </tr>\n",
       "    <tr>\n",
       "      <th>147</th>\n",
       "      <td>BPD</td>\n",
       "      <td>Depression</td>\n",
       "      <td>221</td>\n",
       "      <td>0.741611</td>\n",
       "    </tr>\n",
       "    <tr>\n",
       "      <th>152</th>\n",
       "      <td>Baking</td>\n",
       "      <td>Neutral</td>\n",
       "      <td>115</td>\n",
       "      <td>0.766667</td>\n",
       "    </tr>\n",
       "    <tr>\n",
       "      <th>...</th>\n",
       "      <td>...</td>\n",
       "      <td>...</td>\n",
       "      <td>...</td>\n",
       "      <td>...</td>\n",
       "    </tr>\n",
       "    <tr>\n",
       "      <th>2150</th>\n",
       "      <td>suggestmeabook</td>\n",
       "      <td>Neutral</td>\n",
       "      <td>224</td>\n",
       "      <td>0.842105</td>\n",
       "    </tr>\n",
       "    <tr>\n",
       "      <th>2168</th>\n",
       "      <td>tattoos</td>\n",
       "      <td>Neutral</td>\n",
       "      <td>113</td>\n",
       "      <td>0.843284</td>\n",
       "    </tr>\n",
       "    <tr>\n",
       "      <th>2170</th>\n",
       "      <td>tea</td>\n",
       "      <td>Neutral</td>\n",
       "      <td>65</td>\n",
       "      <td>0.706522</td>\n",
       "    </tr>\n",
       "    <tr>\n",
       "      <th>2182</th>\n",
       "      <td>television</td>\n",
       "      <td>Neutral</td>\n",
       "      <td>102</td>\n",
       "      <td>0.761194</td>\n",
       "    </tr>\n",
       "    <tr>\n",
       "      <th>2191</th>\n",
       "      <td>thanksihateit</td>\n",
       "      <td>Depression</td>\n",
       "      <td>43</td>\n",
       "      <td>0.741379</td>\n",
       "    </tr>\n",
       "    <tr>\n",
       "      <th>2199</th>\n",
       "      <td>therapy</td>\n",
       "      <td>Depression</td>\n",
       "      <td>45</td>\n",
       "      <td>0.865385</td>\n",
       "    </tr>\n",
       "    <tr>\n",
       "      <th>2202</th>\n",
       "      <td>thesims</td>\n",
       "      <td>Neutral</td>\n",
       "      <td>139</td>\n",
       "      <td>0.716495</td>\n",
       "    </tr>\n",
       "    <tr>\n",
       "      <th>2210</th>\n",
       "      <td>tipofmyjoystick</td>\n",
       "      <td>Neutral</td>\n",
       "      <td>108</td>\n",
       "      <td>0.923077</td>\n",
       "    </tr>\n",
       "    <tr>\n",
       "      <th>2214</th>\n",
       "      <td>tipofmytongue</td>\n",
       "      <td>Neutral</td>\n",
       "      <td>803</td>\n",
       "      <td>0.933721</td>\n",
       "    </tr>\n",
       "    <tr>\n",
       "      <th>2218</th>\n",
       "      <td>todayilearned</td>\n",
       "      <td>Neutral</td>\n",
       "      <td>960</td>\n",
       "      <td>0.934761</td>\n",
       "    </tr>\n",
       "    <tr>\n",
       "      <th>2224</th>\n",
       "      <td>translator</td>\n",
       "      <td>Neutral</td>\n",
       "      <td>141</td>\n",
       "      <td>0.915584</td>\n",
       "    </tr>\n",
       "    <tr>\n",
       "      <th>2245</th>\n",
       "      <td>u_Inkspent</td>\n",
       "      <td>Depression</td>\n",
       "      <td>58</td>\n",
       "      <td>0.783784</td>\n",
       "    </tr>\n",
       "    <tr>\n",
       "      <th>2247</th>\n",
       "      <td>u_Searix1627</td>\n",
       "      <td>Depression</td>\n",
       "      <td>47</td>\n",
       "      <td>0.770492</td>\n",
       "    </tr>\n",
       "    <tr>\n",
       "      <th>2255</th>\n",
       "      <td>u_voic3inmyhead</td>\n",
       "      <td>Depression</td>\n",
       "      <td>67</td>\n",
       "      <td>0.905405</td>\n",
       "    </tr>\n",
       "    <tr>\n",
       "      <th>2260</th>\n",
       "      <td>ukpolitics</td>\n",
       "      <td>Neutral</td>\n",
       "      <td>96</td>\n",
       "      <td>0.768000</td>\n",
       "    </tr>\n",
       "    <tr>\n",
       "      <th>2262</th>\n",
       "      <td>unitedkingdom</td>\n",
       "      <td>Neutral</td>\n",
       "      <td>64</td>\n",
       "      <td>0.790123</td>\n",
       "    </tr>\n",
       "    <tr>\n",
       "      <th>2264</th>\n",
       "      <td>unpopularopinion</td>\n",
       "      <td>Neutral</td>\n",
       "      <td>1678</td>\n",
       "      <td>0.739859</td>\n",
       "    </tr>\n",
       "    <tr>\n",
       "      <th>2276</th>\n",
       "      <td>videos</td>\n",
       "      <td>Neutral</td>\n",
       "      <td>698</td>\n",
       "      <td>0.707911</td>\n",
       "    </tr>\n",
       "    <tr>\n",
       "      <th>2278</th>\n",
       "      <td>vinyl</td>\n",
       "      <td>Neutral</td>\n",
       "      <td>88</td>\n",
       "      <td>0.758621</td>\n",
       "    </tr>\n",
       "    <tr>\n",
       "      <th>2296</th>\n",
       "      <td>whatcarshouldIbuy</td>\n",
       "      <td>Neutral</td>\n",
       "      <td>55</td>\n",
       "      <td>0.753425</td>\n",
       "    </tr>\n",
       "    <tr>\n",
       "      <th>2298</th>\n",
       "      <td>whatisthisthing</td>\n",
       "      <td>Neutral</td>\n",
       "      <td>285</td>\n",
       "      <td>0.727041</td>\n",
       "    </tr>\n",
       "    <tr>\n",
       "      <th>2300</th>\n",
       "      <td>whatstheword</td>\n",
       "      <td>Neutral</td>\n",
       "      <td>76</td>\n",
       "      <td>0.835165</td>\n",
       "    </tr>\n",
       "    <tr>\n",
       "      <th>2308</th>\n",
       "      <td>whowouldwin</td>\n",
       "      <td>Neutral</td>\n",
       "      <td>310</td>\n",
       "      <td>0.893372</td>\n",
       "    </tr>\n",
       "    <tr>\n",
       "      <th>2319</th>\n",
       "      <td>woof_irl</td>\n",
       "      <td>Depression</td>\n",
       "      <td>55</td>\n",
       "      <td>0.964912</td>\n",
       "    </tr>\n",
       "    <tr>\n",
       "      <th>2322</th>\n",
       "      <td>worldbuilding</td>\n",
       "      <td>Neutral</td>\n",
       "      <td>104</td>\n",
       "      <td>0.753623</td>\n",
       "    </tr>\n",
       "    <tr>\n",
       "      <th>2324</th>\n",
       "      <td>worldnews</td>\n",
       "      <td>Neutral</td>\n",
       "      <td>401</td>\n",
       "      <td>0.820041</td>\n",
       "    </tr>\n",
       "    <tr>\n",
       "      <th>2326</th>\n",
       "      <td>worldpolitics</td>\n",
       "      <td>Neutral</td>\n",
       "      <td>148</td>\n",
       "      <td>0.736318</td>\n",
       "    </tr>\n",
       "    <tr>\n",
       "      <th>2338</th>\n",
       "      <td>youtube</td>\n",
       "      <td>Neutral</td>\n",
       "      <td>127</td>\n",
       "      <td>0.779141</td>\n",
       "    </tr>\n",
       "    <tr>\n",
       "      <th>2342</th>\n",
       "      <td>yugioh</td>\n",
       "      <td>Neutral</td>\n",
       "      <td>88</td>\n",
       "      <td>0.727273</td>\n",
       "    </tr>\n",
       "    <tr>\n",
       "      <th>2344</th>\n",
       "      <td>zelda</td>\n",
       "      <td>Neutral</td>\n",
       "      <td>70</td>\n",
       "      <td>0.700000</td>\n",
       "    </tr>\n",
       "  </tbody>\n",
       "</table>\n",
       "<p>279 rows × 4 columns</p>\n",
       "</div>"
      ],
      "text/plain": [
       "                 subreddit   predicted  submission_id  percentage\n",
       "9      2meirl42meirl4meirl  Depression             50    0.909091\n",
       "11            2meirl4meirl  Depression            901    0.970905\n",
       "12                     3DS     Neutral             38    0.703704\n",
       "16                 40kLore     Neutral             50    0.746269\n",
       "28                 ACTrade     Neutral             52    0.764706\n",
       "64     AmericanHorrorStory     Neutral             53    0.726027\n",
       "66                 Android     Neutral             45    0.833333\n",
       "68           AndroidGaming     Neutral             41    0.820000\n",
       "70        AndroidQuestions     Neutral            104    0.764706\n",
       "82            Animesuggest     Neutral            113    0.729032\n",
       "84               AntiJokes     Neutral             65    0.764706\n",
       "87                 Anxiety  Depression           1133    0.734284\n",
       "88        AnythingGoesNews     Neutral             64    0.752941\n",
       "96                     Art     Neutral            344    0.788991\n",
       "100          AskAnAmerican     Neutral             98    0.837607\n",
       "102            AskCulinary     Neutral             45    0.789474\n",
       "106           AskEngineers     Neutral             40    0.769231\n",
       "108              AskEurope     Neutral             99    0.860870\n",
       "110          AskHistorians     Neutral            290    0.926518\n",
       "112                 AskMen     Neutral            365    0.771670\n",
       "114                 AskNYC     Neutral             71    0.710000\n",
       "118              AskReddit     Neutral          74044    0.858730\n",
       "120     AskRedditAfterDark     Neutral            152    0.779487\n",
       "122   AskScienceDiscussion     Neutral             47    0.758065\n",
       "124      AskScienceFiction     Neutral             96    0.888889\n",
       "126                  AskUK     Neutral             41    0.732143\n",
       "130               AskWomen     Neutral            275    0.820896\n",
       "132         AskWomenOver30     Neutral             44    0.758621\n",
       "147                    BPD  Depression            221    0.741611\n",
       "152                 Baking     Neutral            115    0.766667\n",
       "...                    ...         ...            ...         ...\n",
       "2150        suggestmeabook     Neutral            224    0.842105\n",
       "2168               tattoos     Neutral            113    0.843284\n",
       "2170                   tea     Neutral             65    0.706522\n",
       "2182            television     Neutral            102    0.761194\n",
       "2191         thanksihateit  Depression             43    0.741379\n",
       "2199               therapy  Depression             45    0.865385\n",
       "2202               thesims     Neutral            139    0.716495\n",
       "2210       tipofmyjoystick     Neutral            108    0.923077\n",
       "2214         tipofmytongue     Neutral            803    0.933721\n",
       "2218         todayilearned     Neutral            960    0.934761\n",
       "2224            translator     Neutral            141    0.915584\n",
       "2245            u_Inkspent  Depression             58    0.783784\n",
       "2247          u_Searix1627  Depression             47    0.770492\n",
       "2255       u_voic3inmyhead  Depression             67    0.905405\n",
       "2260            ukpolitics     Neutral             96    0.768000\n",
       "2262         unitedkingdom     Neutral             64    0.790123\n",
       "2264      unpopularopinion     Neutral           1678    0.739859\n",
       "2276                videos     Neutral            698    0.707911\n",
       "2278                 vinyl     Neutral             88    0.758621\n",
       "2296     whatcarshouldIbuy     Neutral             55    0.753425\n",
       "2298       whatisthisthing     Neutral            285    0.727041\n",
       "2300          whatstheword     Neutral             76    0.835165\n",
       "2308           whowouldwin     Neutral            310    0.893372\n",
       "2319              woof_irl  Depression             55    0.964912\n",
       "2322         worldbuilding     Neutral            104    0.753623\n",
       "2324             worldnews     Neutral            401    0.820041\n",
       "2326         worldpolitics     Neutral            148    0.736318\n",
       "2338               youtube     Neutral            127    0.779141\n",
       "2342                yugioh     Neutral             88    0.727273\n",
       "2344                 zelda     Neutral             70    0.700000\n",
       "\n",
       "[279 rows x 4 columns]"
      ]
     },
     "execution_count": 70,
     "metadata": {},
     "output_type": "execute_result"
    }
   ],
   "source": [
    "temp"
   ]
  },
  {
   "cell_type": "code",
   "execution_count": 71,
   "metadata": {},
   "outputs": [],
   "source": [
    "neutral_subreddits_x = pd.read_csv('neutral_subreddits.csv')\n",
    "depression_subreddits_x = pd.read_csv('depression_subreddits.csv')"
   ]
  },
  {
   "cell_type": "code",
   "execution_count": 75,
   "metadata": {},
   "outputs": [],
   "source": [
    "depression_subreddits_x = pd.merge(depression_subreddits_x, temp, left_on='subreddit', right_on='subreddit').sort_values(by='percentage', ascending=False)"
   ]
  },
  {
   "cell_type": "code",
   "execution_count": 77,
   "metadata": {},
   "outputs": [],
   "source": [
    "depression_subreddits_x[['subreddit', 'predicted', 'percentage']].to_csv('depression_subreddits.csv', index=False)"
   ]
  },
  {
   "cell_type": "code",
   "execution_count": 78,
   "metadata": {},
   "outputs": [],
   "source": [
    "neutral_subreddits_x = pd.merge(neutral_subreddits_x, temp, left_on='subreddit', right_on='subreddit').sort_values(by='percentage', ascending=False)"
   ]
  },
  {
   "cell_type": "code",
   "execution_count": 80,
   "metadata": {},
   "outputs": [],
   "source": [
    "neutral_subreddits_x[['subreddit', 'predicted', 'percentage']].to_csv('neutral_subreddits.csv', index=False)"
   ]
  },
  {
   "cell_type": "code",
   "execution_count": 14,
   "metadata": {},
   "outputs": [],
   "source": [
    "# Neutral - 0\n",
    "# Depression - 1"
   ]
  },
  {
   "cell_type": "code",
   "execution_count": 15,
   "metadata": {},
   "outputs": [
    {
     "data": {
      "text/plain": [
       "0    275693\n",
       "1    185117\n",
       "Name: predicted, dtype: int64"
      ]
     },
     "execution_count": 15,
     "metadata": {},
     "output_type": "execute_result"
    }
   ],
   "source": [
    "# Distribution of predicted values\n",
    "whole_data['predicted'].value_counts()"
   ]
  },
  {
   "cell_type": "code",
   "execution_count": 16,
   "metadata": {},
   "outputs": [],
   "source": [
    "# Filter out the data by noise\n",
    "# Subreddits with less than 50 appearences are dropped out \n",
    "counts = whole_data['subreddit'].value_counts()\n",
    "popular_subreddits = counts[counts.values >= 50].keys()\n",
    "whole_data = whole_data[(whole_data['subreddit'].isin(popular_subreddits))]"
   ]
  },
  {
   "cell_type": "code",
   "execution_count": 17,
   "metadata": {},
   "outputs": [
    {
     "data": {
      "text/plain": [
       "1176"
      ]
     },
     "execution_count": 17,
     "metadata": {},
     "output_type": "execute_result"
    }
   ],
   "source": [
    "# Number of UNIQUE subreddits left after being filtered\n",
    "subreddits = set(whole_data['subreddit'])\n",
    "len(subreddits)"
   ]
  },
  {
   "cell_type": "code",
   "execution_count": 18,
   "metadata": {},
   "outputs": [],
   "source": [
    "# Apply a second filter,\n",
    "# by checking the tendency of a certain subreddit to be either depression or neutral\n",
    "# if its over 70% towards a certain side, append to the appropriate list\n",
    "\n",
    "neutral_subreddits = []\n",
    "depression_subreddits = []\n",
    "for i in subreddits:\n",
    "    values = whole_data[whole_data['subreddit'] == i]['predicted'].value_counts().values\n",
    "    sum_values = np.sum(whole_data[whole_data['subreddit'] == i]['predicted'].value_counts().values)\n",
    "    values_perc = values/sum_values\n",
    "    value1 = whole_data[whole_data['subreddit'] == i]['predicted'].value_counts().values[0]\n",
    "    if whole_data[whole_data['subreddit'] == i]['predicted'].value_counts().keys()[0] == 0:\n",
    "        if values_perc[0] >= 0.7:\n",
    "            neutral_subreddits.append(i)\n",
    "    else:\n",
    "        if values_perc[0] >= 0.7:\n",
    "            depression_subreddits.append(i)"
   ]
  },
  {
   "cell_type": "code",
   "execution_count": 19,
   "metadata": {},
   "outputs": [
    {
     "data": {
      "text/plain": [
       "depression             21359\n",
       "me_irl                  2061\n",
       "SuicideWatch            2049\n",
       "Anxiety                 1543\n",
       "2meirl4meirl             928\n",
       "cursedcomments           802\n",
       "mentalhealth             729\n",
       "selfharm                 651\n",
       "cursedimages             578\n",
       "bipolar                  538\n",
       "blursedimages            530\n",
       "relationships            486\n",
       "hmmm                     471\n",
       "lonely                   417\n",
       "DoesAnybodyElse          415\n",
       "UnsentLetters            400\n",
       "BreakUps                 339\n",
       "TIHI                     303\n",
       "BPD                      298\n",
       "MakeNewFriendsHere       270\n",
       "Vent                     265\n",
       "Needafriend              262\n",
       "CircleofTrust            237\n",
       "gonewild                 210\n",
       "r4r                      187\n",
       "dirtykikpals             179\n",
       "meirl                    176\n",
       "depression_help          156\n",
       "anime_irl                152\n",
       "leaves                   139\n",
       "                       ...  \n",
       "ChronicPain               89\n",
       "antidepressants           79\n",
       "GiftofGames               75\n",
       "u_Inkspent                74\n",
       "u_voic3inmyhead           74\n",
       "sleep                     72\n",
       "Fantasy_Football          69\n",
       "depressed                 66\n",
       "u_Searix1627              61\n",
       "ich_iel                   61\n",
       "Ooer                      61\n",
       "hmm                       60\n",
       "C25K                      58\n",
       "thanksihateit             58\n",
       "dpdr                      58\n",
       "TalkTherapy               57\n",
       "EDAnonymous               57\n",
       "woof_irl                  57\n",
       "ShadowBan                 56\n",
       "2meirl42meirl4meirl       55\n",
       "depressionregimens        54\n",
       "SelfHarmScars             53\n",
       "mentalillness             53\n",
       "ani_bm                    52\n",
       "therapy                   52\n",
       "MassiveCock               52\n",
       "FreeCompliments           52\n",
       "MomForAMinute             51\n",
       "nice                      51\n",
       "cfs                       50\n",
       "Name: subreddit, Length: 68, dtype: int64"
      ]
     },
     "execution_count": 19,
     "metadata": {},
     "output_type": "execute_result"
    }
   ],
   "source": [
    "# Distribution of depression subreddits \n",
    "whole_data[whole_data['subreddit'].isin(depression_subreddits)]['subreddit'].value_counts()"
   ]
  },
  {
   "cell_type": "code",
   "execution_count": 63,
   "metadata": {},
   "outputs": [],
   "source": [
    "pd.DataFrame(neutral_subreddits, columns=['subreddit']).to_csv('neutral_subreddits.csv', index=False)"
   ]
  },
  {
   "cell_type": "code",
   "execution_count": 61,
   "metadata": {},
   "outputs": [],
   "source": [
    "pd.DataFrame(depression_subreddits, columns=['subreddit']).to_csv('depression_subreddits.csv', index=False)"
   ]
  },
  {
   "cell_type": "code",
   "execution_count": 20,
   "metadata": {},
   "outputs": [
    {
     "name": "stdout",
     "output_type": "stream",
     "text": [
      "The Filtered Neutral Subreddits Are:\n",
      "\n",
      " ['SuggestALaptop', 'yugioh', 'polls', 'suggestmeabook', 'iphone', 'residentevil', 'CFB', 'retrogaming', 'Damnthatsinteresting', 'CanadaPublicServants', 'borrow', 'GalaxyS9', 'Disneyland', 'Entrepreneur', 'nier', 'AmericanHorrorStory', 'dadjokes', 'dataisbeautiful', 'darkjokes', 'Filmmakers', 'AskAnAmerican', 'netflix', 'MovieSuggestions', 'apple', 'SteamGameSwap', 'FiftyFifty', 'cscareerquestions', 'investing', 'translator', 'RedLetterMedia', 'food', 'comicbooks', 'nba', 'tipofmytongue', 'Gunners', 'thesims', 'history', 'Showerthoughts', 'HumansBeingBros', 'AskCulinary', 'askscience', 'halloween', 'shittyfoodporn', 'AndroidGaming', 'marvelstudios', 'DirtyWritingPrompts', 'Jokes', 'tea', 'KingdomHearts', 'findareddit', 'HistoryWhatIf', '40kLore', 'SmallYTChannel', 'blackmirror', 'Madden', '3DS', 'science', 'WWEGames', 'AnythingGoesNews', 'Libertarian', 'ask', 'AskHistorians', 'whatstheword', 'todayilearned', 'MensRights', 'cars', 'The3Million', 'NorthAttleboroMA', 'soccer', 'smallbusiness', 'changemyview', 'television', 'firstworldproblems', 'entitledparents', 'worldnews', 'baseball', 'ScenesFromAHat', 'tattoos', 'OutOfTheLoop', 'lotr', 'booksuggestions', 'Fishing', 'shittymoviedetails', 'nocontextpics', 'hardwareswap', 'fakehistoryporn', 'horror', 'Postboxes', 'AskEurope', 'Marvel', 'SonicTheHedgehog', 'IsItMrKrabsBirthday', 'StarWars', 'gamecollecting', 'shittysuperpowers', 'pcgaming', 'patientgamers', 'questions', 'AntiJokes', 'Coronavirus', 'ukpolitics', 'gamedev', 'videos', 'grammar', 'mildlyinteresting', 'WritingPrompts', 'AskRedditAfterDark', 'canada', 'YouTube_startups', 'Conservative', 'unitedkingdom', 'LiveFromNewYork', 'MMA', 'Animesuggest', 'WouldYouRather', 'conspiracy', 'AskEngineers', 'androidapps', 'AskUK', 'excel', 'vinyl', 'AndroidQuestions', 'Xcom', 'unpopularopinion', 'EnglishLearning', 'whatcarshouldIbuy', 'starterpacks', 'OculusQuest', 'discordservers', 'nottheonion', 'Coffee', 'AskWomenOver30', 'AskMen', 'interestingasfuck', 'SandersForPresident', 'GameSale', 'AskScienceDiscussion', 'PersonalFinanceCanada', 'Cooking', 'Art', 'socialmedia', 'CapitalismVSocialism', 'india', 'popheads', 'europe', 'fo4', 'MovieDetails', 'languagelearning', 'LifeProTips', 'AskWomen', 'natureismetal', 'tipofmyjoystick', 'politics', 'space', 'laptops', 'shittyaskscience', 'MixedRaceGirls', 'AskReddit', 'Watches', 'ClashOfClansRecruit', 'spotify', 'zelda', 'atheism', 'skyrimmods', 'NameThatSong', 'AskNYC', 'buildapcsales', 'gamemusic', 'Stellaris', 'civ', 'legaladviceofftopic', 'FanTheories', 'explainlikeimfive', 'Baking', 'ContestOfChampions', 'godtiersuperpowers', 'classicalmusic', 'whatisthisthing', 'HalfLife', 'nfl', 'Android', 'DCcomics', 'Juve', 'PublicFreakout', 'movies', 'Gamingcirclejerk', 'news', 'learnjavascript', 'youtube', 'PhotoshopRequest', 'gamingsuggestions', 'FoodPorn', 'boxoffice', 'Instagramreality', 'NoStupidQuestions', 'whowouldwin', 'funkoswap', 'shittyaskreddit', 'SquaredCircle', 'worldpolitics', 'AskScienceFiction', 'Silverbugs', 'applehelp', 'DrakeTheType', 'ACTrade', 'KotakuInAction', 'CitiesSkylines', 'CrazyIdeas', 'answers', 'worldbuilding', 'blunderyears']\n",
      "--------------------\n",
      "The Filtered Depression Subreddits are:\n",
      "\n",
      " ['selfharm', 'MomForAMinute', 'mentalillness', 'BPD', 'gonewild', 'BreakUps', 'furry_irl', 'ChronicPain', 'ForeverAloneDating', 'depression_help', 'blursedimages', 'GiftofGames', 'therapy', 'ExNoContact', 'SelfHarmScars', 'bipolar', 'ani_bm', 'DAE', 'hmm', 'lonely', 'u_voic3inmyhead', 'dpdr', 'Pacybits', 'dirtykikpals', 'nice', 'C25K', 'CPTSD', 'me_irl', 'cfs', 'TIHI', 'mentalhealth', 'FreeCompliments', 'anime_irl', 'sleep', 'depressionregimens', 'UnsentLetters', 'meirl', 'Ooer', 'depressed', 'CircleofTrust', 'thanksihateit', 'sad', 'SuicideWatch', 'MakeNewFriendsHere', 'Vent', 'leaves', 'ich_iel', 'Fantasy_Football', 'stopsmoking', 'hmmm', 'DoesAnybodyElse', 'Anxiety', 'cursedcomments', '2meirl42meirl4meirl', 'woof_irl', 'antidepressants', 'MassiveCock', 'r4r', 'cursedimages', 'relationships', 'u_Inkspent', 'TalkTherapy', 'depression', 'EDAnonymous', '2meirl4meirl', 'ShadowBan', 'u_Searix1627', 'Needafriend']\n"
     ]
    }
   ],
   "source": [
    "print(\"The Filtered Neutral Subreddits Are:\\n\\n\",neutral_subreddits)\n",
    "print(20*\"-\")\n",
    "print(\"The Filtered Depression Subreddits are:\\n\\n\", depression_subreddits)"
   ]
  },
  {
   "cell_type": "code",
   "execution_count": 21,
   "metadata": {},
   "outputs": [],
   "source": [
    "# Filtered by hand depression-related subreddits\n",
    "depression_subreddit_filtered_list = ['depression_help', 'lonely', 'SuicideWatch', 'depression',\n",
    "                                      'selfharm', 'mentalhealth', 'offmychest', 'Anxiety',]"
   ]
  },
  {
   "cell_type": "code",
   "execution_count": 22,
   "metadata": {},
   "outputs": [],
   "source": [
    "# Split the dataframe to neutral and depressed by the filtered subreddits\n",
    "depression_df = whole_data[whole_data['subreddit'].isin(depression_subreddit_filtered_list)]\n",
    "neutral_df = whole_data[whole_data['subreddit'].isin(neutral_subreddits)]"
   ]
  },
  {
   "cell_type": "code",
   "execution_count": 23,
   "metadata": {},
   "outputs": [],
   "source": [
    "# Get the list of all unique users for each type of dataset\n",
    "depression_names = list(set(depression_df['user_name']))\n",
    "neutral_names = list(set(neutral_df['user_name']))"
   ]
  },
  {
   "cell_type": "code",
   "execution_count": 24,
   "metadata": {},
   "outputs": [
    {
     "data": {
      "text/plain": [
       "(157969, 16)"
      ]
     },
     "execution_count": 24,
     "metadata": {},
     "output_type": "execute_result"
    }
   ],
   "source": [
    "# Merge them back to a single dataframe\n",
    "full_df = pd.concat([depression_df,neutral_df],axis=0)\n",
    "full_df.shape"
   ]
  },
  {
   "cell_type": "code",
   "execution_count": 25,
   "metadata": {},
   "outputs": [],
   "source": [
    "# Filter out people who havn't posted in both types of subreddits (Depression/Neutral) in the current dataset\n",
    "both = []\n",
    "for i in depression_names:\n",
    "    if i in neutral_names:\n",
    "        both.append(i)"
   ]
  },
  {
   "cell_type": "code",
   "execution_count": 26,
   "metadata": {},
   "outputs": [],
   "source": [
    "full_df = full_df[full_df['user_name'].isin(both)]\n",
    "full_df = full_df.sort_values(by=['user_name','date_created'],ascending=False)\n",
    "full_df['num_distinct_words'] = full_df['post_text'].apply(lambda x: len(set(x.split())))"
   ]
  },
  {
   "cell_type": "code",
   "execution_count": 27,
   "metadata": {},
   "outputs": [
    {
     "data": {
      "image/png": "[encoded data removed]",
      "text/plain": [
       "<Figure size 1152x720 with 2 Axes>"
      ]
     },
     "metadata": {
      "needs_background": "light"
     },
     "output_type": "display_data"
    }
   ],
   "source": [
    "df_corr = full_df._get_numeric_data()\n",
    "\n",
    "mask = np.zeros_like(df_corr.corr(),dtype=np.bool)\n",
    "mask[np.triu_indices_from(mask)] = True\n",
    "cmap = sb.diverging_palette(10,150,as_cmap=True)\n",
    "\n",
    "plt.figure(figsize=(16,10))\n",
    "sb.heatmap(df_corr.corr(),cmap=cmap,annot=True,mask = mask,square = True,center = 0)\n",
    "plt.title('Correlation',size=20)\n",
    "plt.show()"
   ]
  },
  {
   "cell_type": "code",
   "execution_count": 28,
   "metadata": {},
   "outputs": [
    {
     "ename": "ValueError",
     "evalue": "setting an array element with a sequence.",
     "output_type": "error",
     "traceback": [
      "\u001b[1;31m---------------------------------------------------------------------------\u001b[0m",
      "\u001b[1;31mValueError\u001b[0m                                Traceback (most recent call last)",
      "\u001b[1;32m~\\Anaconda3\\envs\\Python36\\lib\\site-packages\\pandas\\core\\series.py\u001b[0m in \u001b[0;36msetitem\u001b[1;34m(key, value)\u001b[0m\n\u001b[0;32m    986\u001b[0m             \u001b[1;32mtry\u001b[0m\u001b[1;33m:\u001b[0m\u001b[1;33m\u001b[0m\u001b[1;33m\u001b[0m\u001b[0m\n\u001b[1;32m--> 987\u001b[1;33m                 \u001b[0mself\u001b[0m\u001b[1;33m.\u001b[0m\u001b[0m_set_with_engine\u001b[0m\u001b[1;33m(\u001b[0m\u001b[0mkey\u001b[0m\u001b[1;33m,\u001b[0m \u001b[0mvalue\u001b[0m\u001b[1;33m)\u001b[0m\u001b[1;33m\u001b[0m\u001b[1;33m\u001b[0m\u001b[0m\n\u001b[0m\u001b[0;32m    988\u001b[0m                 \u001b[1;32mreturn\u001b[0m\u001b[1;33m\u001b[0m\u001b[1;33m\u001b[0m\u001b[0m\n",
      "\u001b[1;32m~\\Anaconda3\\envs\\Python36\\lib\\site-packages\\pandas\\core\\series.py\u001b[0m in \u001b[0;36m_set_with_engine\u001b[1;34m(self, key, value)\u001b[0m\n\u001b[0;32m   1045\u001b[0m         \u001b[1;32mtry\u001b[0m\u001b[1;33m:\u001b[0m\u001b[1;33m\u001b[0m\u001b[1;33m\u001b[0m\u001b[0m\n\u001b[1;32m-> 1046\u001b[1;33m             \u001b[0mself\u001b[0m\u001b[1;33m.\u001b[0m\u001b[0mindex\u001b[0m\u001b[1;33m.\u001b[0m\u001b[0m_engine\u001b[0m\u001b[1;33m.\u001b[0m\u001b[0mset_value\u001b[0m\u001b[1;33m(\u001b[0m\u001b[0mvalues\u001b[0m\u001b[1;33m,\u001b[0m \u001b[0mkey\u001b[0m\u001b[1;33m,\u001b[0m \u001b[0mvalue\u001b[0m\u001b[1;33m)\u001b[0m\u001b[1;33m\u001b[0m\u001b[1;33m\u001b[0m\u001b[0m\n\u001b[0m\u001b[0;32m   1047\u001b[0m             \u001b[1;32mreturn\u001b[0m\u001b[1;33m\u001b[0m\u001b[1;33m\u001b[0m\u001b[0m\n",
      "\u001b[1;32mpandas/_libs/index.pyx\u001b[0m in \u001b[0;36mpandas._libs.index.IndexEngine.set_value\u001b[1;34m()\u001b[0m\n",
      "\u001b[1;32mpandas/_libs/index.pyx\u001b[0m in \u001b[0;36mpandas._libs.index.IndexEngine.set_value\u001b[1;34m()\u001b[0m\n",
      "\u001b[1;31mValueError\u001b[0m: setting an array element with a sequence.",
      "\nDuring handling of the above exception, another exception occurred:\n",
      "\u001b[1;31mValueError\u001b[0m                                Traceback (most recent call last)",
      "\u001b[1;32m<ipython-input-28-e64a4395b824>\u001b[0m in \u001b[0;36m<module>\u001b[1;34m\u001b[0m\n\u001b[0;32m     19\u001b[0m \u001b[1;33m\u001b[0m\u001b[0m\n\u001b[0;32m     20\u001b[0m \u001b[1;32mfor\u001b[0m \u001b[0mi\u001b[0m \u001b[1;32min\u001b[0m \u001b[0mrange\u001b[0m\u001b[1;33m(\u001b[0m\u001b[0mlen\u001b[0m\u001b[1;33m(\u001b[0m\u001b[0mfull_df\u001b[0m\u001b[1;33m[\u001b[0m\u001b[1;34m'trigrams'\u001b[0m\u001b[1;33m]\u001b[0m\u001b[1;33m)\u001b[0m\u001b[1;33m)\u001b[0m\u001b[1;33m:\u001b[0m\u001b[1;33m\u001b[0m\u001b[1;33m\u001b[0m\u001b[0m\n\u001b[1;32m---> 21\u001b[1;33m     \u001b[0mfull_df\u001b[0m\u001b[1;33m[\u001b[0m\u001b[1;34m'trigrams'\u001b[0m\u001b[1;33m]\u001b[0m\u001b[1;33m[\u001b[0m\u001b[0mi\u001b[0m\u001b[1;33m]\u001b[0m \u001b[1;33m=\u001b[0m \u001b[0mblabla\u001b[0m\u001b[1;33m[\u001b[0m\u001b[0mi\u001b[0m\u001b[1;33m]\u001b[0m\u001b[1;33m\u001b[0m\u001b[1;33m\u001b[0m\u001b[0m\n\u001b[0m\u001b[0;32m     22\u001b[0m \u001b[1;33m\u001b[0m\u001b[0m\n\u001b[0;32m     23\u001b[0m \u001b[1;32mfor\u001b[0m \u001b[0mi\u001b[0m \u001b[1;32min\u001b[0m \u001b[0mrange\u001b[0m\u001b[1;33m(\u001b[0m\u001b[0mlen\u001b[0m\u001b[1;33m(\u001b[0m\u001b[0mfull_df\u001b[0m\u001b[1;33m[\u001b[0m\u001b[1;34m'trigrams'\u001b[0m\u001b[1;33m]\u001b[0m\u001b[1;33m)\u001b[0m\u001b[1;33m)\u001b[0m\u001b[1;33m:\u001b[0m\u001b[1;33m\u001b[0m\u001b[1;33m\u001b[0m\u001b[0m\n",
      "\u001b[1;32m~\\Anaconda3\\envs\\Python36\\lib\\site-packages\\pandas\\core\\series.py\u001b[0m in \u001b[0;36m__setitem__\u001b[1;34m(self, key, value)\u001b[0m\n\u001b[0;32m   1037\u001b[0m         \u001b[1;31m# do the setitem\u001b[0m\u001b[1;33m\u001b[0m\u001b[1;33m\u001b[0m\u001b[1;33m\u001b[0m\u001b[0m\n\u001b[0;32m   1038\u001b[0m         \u001b[0mcacher_needs_updating\u001b[0m \u001b[1;33m=\u001b[0m \u001b[0mself\u001b[0m\u001b[1;33m.\u001b[0m\u001b[0m_check_is_chained_assignment_possible\u001b[0m\u001b[1;33m(\u001b[0m\u001b[1;33m)\u001b[0m\u001b[1;33m\u001b[0m\u001b[1;33m\u001b[0m\u001b[0m\n\u001b[1;32m-> 1039\u001b[1;33m         \u001b[0msetitem\u001b[0m\u001b[1;33m(\u001b[0m\u001b[0mkey\u001b[0m\u001b[1;33m,\u001b[0m \u001b[0mvalue\u001b[0m\u001b[1;33m)\u001b[0m\u001b[1;33m\u001b[0m\u001b[1;33m\u001b[0m\u001b[0m\n\u001b[0m\u001b[0;32m   1040\u001b[0m         \u001b[1;32mif\u001b[0m \u001b[0mcacher_needs_updating\u001b[0m\u001b[1;33m:\u001b[0m\u001b[1;33m\u001b[0m\u001b[1;33m\u001b[0m\u001b[0m\n\u001b[0;32m   1041\u001b[0m             \u001b[0mself\u001b[0m\u001b[1;33m.\u001b[0m\u001b[0m_maybe_update_cacher\u001b[0m\u001b[1;33m(\u001b[0m\u001b[1;33m)\u001b[0m\u001b[1;33m\u001b[0m\u001b[1;33m\u001b[0m\u001b[0m\n",
      "\u001b[1;32m~\\Anaconda3\\envs\\Python36\\lib\\site-packages\\pandas\\core\\series.py\u001b[0m in \u001b[0;36msetitem\u001b[1;34m(key, value)\u001b[0m\n\u001b[0;32m   1013\u001b[0m                             \u001b[1;32mpass\u001b[0m\u001b[1;33m\u001b[0m\u001b[1;33m\u001b[0m\u001b[0m\n\u001b[0;32m   1014\u001b[0m \u001b[1;33m\u001b[0m\u001b[0m\n\u001b[1;32m-> 1015\u001b[1;33m                 \u001b[0mself\u001b[0m\u001b[1;33m.\u001b[0m\u001b[0mloc\u001b[0m\u001b[1;33m[\u001b[0m\u001b[0mkey\u001b[0m\u001b[1;33m]\u001b[0m \u001b[1;33m=\u001b[0m \u001b[0mvalue\u001b[0m\u001b[1;33m\u001b[0m\u001b[1;33m\u001b[0m\u001b[0m\n\u001b[0m\u001b[0;32m   1016\u001b[0m                 \u001b[1;32mreturn\u001b[0m\u001b[1;33m\u001b[0m\u001b[1;33m\u001b[0m\u001b[0m\n\u001b[0;32m   1017\u001b[0m \u001b[1;33m\u001b[0m\u001b[0m\n",
      "\u001b[1;32m~\\Anaconda3\\envs\\Python36\\lib\\site-packages\\pandas\\core\\indexing.py\u001b[0m in \u001b[0;36m__setitem__\u001b[1;34m(self, key, value)\u001b[0m\n\u001b[0;32m    188\u001b[0m             \u001b[0mkey\u001b[0m \u001b[1;33m=\u001b[0m \u001b[0mcom\u001b[0m\u001b[1;33m.\u001b[0m\u001b[0mapply_if_callable\u001b[0m\u001b[1;33m(\u001b[0m\u001b[0mkey\u001b[0m\u001b[1;33m,\u001b[0m \u001b[0mself\u001b[0m\u001b[1;33m.\u001b[0m\u001b[0mobj\u001b[0m\u001b[1;33m)\u001b[0m\u001b[1;33m\u001b[0m\u001b[1;33m\u001b[0m\u001b[0m\n\u001b[0;32m    189\u001b[0m         \u001b[0mindexer\u001b[0m \u001b[1;33m=\u001b[0m \u001b[0mself\u001b[0m\u001b[1;33m.\u001b[0m\u001b[0m_get_setitem_indexer\u001b[0m\u001b[1;33m(\u001b[0m\u001b[0mkey\u001b[0m\u001b[1;33m)\u001b[0m\u001b[1;33m\u001b[0m\u001b[1;33m\u001b[0m\u001b[0m\n\u001b[1;32m--> 190\u001b[1;33m         \u001b[0mself\u001b[0m\u001b[1;33m.\u001b[0m\u001b[0m_setitem_with_indexer\u001b[0m\u001b[1;33m(\u001b[0m\u001b[0mindexer\u001b[0m\u001b[1;33m,\u001b[0m \u001b[0mvalue\u001b[0m\u001b[1;33m)\u001b[0m\u001b[1;33m\u001b[0m\u001b[1;33m\u001b[0m\u001b[0m\n\u001b[0m\u001b[0;32m    191\u001b[0m \u001b[1;33m\u001b[0m\u001b[0m\n\u001b[0;32m    192\u001b[0m     \u001b[1;32mdef\u001b[0m \u001b[0m_validate_key\u001b[0m\u001b[1;33m(\u001b[0m\u001b[0mself\u001b[0m\u001b[1;33m,\u001b[0m \u001b[0mkey\u001b[0m\u001b[1;33m,\u001b[0m \u001b[0maxis\u001b[0m\u001b[1;33m)\u001b[0m\u001b[1;33m:\u001b[0m\u001b[1;33m\u001b[0m\u001b[1;33m\u001b[0m\u001b[0m\n",
      "\u001b[1;32m~\\Anaconda3\\envs\\Python36\\lib\\site-packages\\pandas\\core\\indexing.py\u001b[0m in \u001b[0;36m_setitem_with_indexer\u001b[1;34m(self, indexer, value)\u001b[0m\n\u001b[0;32m    654\u001b[0m             \u001b[0mself\u001b[0m\u001b[1;33m.\u001b[0m\u001b[0mobj\u001b[0m\u001b[1;33m.\u001b[0m\u001b[0m_consolidate_inplace\u001b[0m\u001b[1;33m(\u001b[0m\u001b[1;33m)\u001b[0m\u001b[1;33m\u001b[0m\u001b[1;33m\u001b[0m\u001b[0m\n\u001b[0;32m    655\u001b[0m             self.obj._data = self.obj._data.setitem(indexer=indexer,\n\u001b[1;32m--> 656\u001b[1;33m                                                     value=value)\n\u001b[0m\u001b[0;32m    657\u001b[0m             \u001b[0mself\u001b[0m\u001b[1;33m.\u001b[0m\u001b[0mobj\u001b[0m\u001b[1;33m.\u001b[0m\u001b[0m_maybe_update_cacher\u001b[0m\u001b[1;33m(\u001b[0m\u001b[0mclear\u001b[0m\u001b[1;33m=\u001b[0m\u001b[1;32mTrue\u001b[0m\u001b[1;33m)\u001b[0m\u001b[1;33m\u001b[0m\u001b[1;33m\u001b[0m\u001b[0m\n\u001b[0;32m    658\u001b[0m \u001b[1;33m\u001b[0m\u001b[0m\n",
      "\u001b[1;32m~\\Anaconda3\\envs\\Python36\\lib\\site-packages\\pandas\\core\\internals\\managers.py\u001b[0m in \u001b[0;36msetitem\u001b[1;34m(self, **kwargs)\u001b[0m\n\u001b[0;32m    508\u001b[0m \u001b[1;33m\u001b[0m\u001b[0m\n\u001b[0;32m    509\u001b[0m     \u001b[1;32mdef\u001b[0m \u001b[0msetitem\u001b[0m\u001b[1;33m(\u001b[0m\u001b[0mself\u001b[0m\u001b[1;33m,\u001b[0m \u001b[1;33m**\u001b[0m\u001b[0mkwargs\u001b[0m\u001b[1;33m)\u001b[0m\u001b[1;33m:\u001b[0m\u001b[1;33m\u001b[0m\u001b[1;33m\u001b[0m\u001b[0m\n\u001b[1;32m--> 510\u001b[1;33m         \u001b[1;32mreturn\u001b[0m \u001b[0mself\u001b[0m\u001b[1;33m.\u001b[0m\u001b[0mapply\u001b[0m\u001b[1;33m(\u001b[0m\u001b[1;34m'setitem'\u001b[0m\u001b[1;33m,\u001b[0m \u001b[1;33m**\u001b[0m\u001b[0mkwargs\u001b[0m\u001b[1;33m)\u001b[0m\u001b[1;33m\u001b[0m\u001b[1;33m\u001b[0m\u001b[0m\n\u001b[0m\u001b[0;32m    511\u001b[0m \u001b[1;33m\u001b[0m\u001b[0m\n\u001b[0;32m    512\u001b[0m     \u001b[1;32mdef\u001b[0m \u001b[0mputmask\u001b[0m\u001b[1;33m(\u001b[0m\u001b[0mself\u001b[0m\u001b[1;33m,\u001b[0m \u001b[1;33m**\u001b[0m\u001b[0mkwargs\u001b[0m\u001b[1;33m)\u001b[0m\u001b[1;33m:\u001b[0m\u001b[1;33m\u001b[0m\u001b[1;33m\u001b[0m\u001b[0m\n",
      "\u001b[1;32m~\\Anaconda3\\envs\\Python36\\lib\\site-packages\\pandas\\core\\internals\\managers.py\u001b[0m in \u001b[0;36mapply\u001b[1;34m(self, f, axes, filter, do_integrity_check, consolidate, **kwargs)\u001b[0m\n\u001b[0;32m    393\u001b[0m                                             copy=align_copy)\n\u001b[0;32m    394\u001b[0m \u001b[1;33m\u001b[0m\u001b[0m\n\u001b[1;32m--> 395\u001b[1;33m             \u001b[0mapplied\u001b[0m \u001b[1;33m=\u001b[0m \u001b[0mgetattr\u001b[0m\u001b[1;33m(\u001b[0m\u001b[0mb\u001b[0m\u001b[1;33m,\u001b[0m \u001b[0mf\u001b[0m\u001b[1;33m)\u001b[0m\u001b[1;33m(\u001b[0m\u001b[1;33m**\u001b[0m\u001b[0mkwargs\u001b[0m\u001b[1;33m)\u001b[0m\u001b[1;33m\u001b[0m\u001b[1;33m\u001b[0m\u001b[0m\n\u001b[0m\u001b[0;32m    396\u001b[0m             \u001b[0mresult_blocks\u001b[0m \u001b[1;33m=\u001b[0m \u001b[0m_extend_blocks\u001b[0m\u001b[1;33m(\u001b[0m\u001b[0mapplied\u001b[0m\u001b[1;33m,\u001b[0m \u001b[0mresult_blocks\u001b[0m\u001b[1;33m)\u001b[0m\u001b[1;33m\u001b[0m\u001b[1;33m\u001b[0m\u001b[0m\n\u001b[0;32m    397\u001b[0m \u001b[1;33m\u001b[0m\u001b[0m\n",
      "\u001b[1;32m~\\Anaconda3\\envs\\Python36\\lib\\site-packages\\pandas\\core\\internals\\blocks.py\u001b[0m in \u001b[0;36msetitem\u001b[1;34m(self, indexer, value)\u001b[0m\n\u001b[0;32m    918\u001b[0m         \u001b[1;31m# set\u001b[0m\u001b[1;33m\u001b[0m\u001b[1;33m\u001b[0m\u001b[1;33m\u001b[0m\u001b[0m\n\u001b[0;32m    919\u001b[0m         \u001b[1;32melse\u001b[0m\u001b[1;33m:\u001b[0m\u001b[1;33m\u001b[0m\u001b[1;33m\u001b[0m\u001b[0m\n\u001b[1;32m--> 920\u001b[1;33m             \u001b[0mvalues\u001b[0m\u001b[1;33m[\u001b[0m\u001b[0mindexer\u001b[0m\u001b[1;33m]\u001b[0m \u001b[1;33m=\u001b[0m \u001b[0mvalue\u001b[0m\u001b[1;33m\u001b[0m\u001b[1;33m\u001b[0m\u001b[0m\n\u001b[0m\u001b[0;32m    921\u001b[0m \u001b[1;33m\u001b[0m\u001b[0m\n\u001b[0;32m    922\u001b[0m         \u001b[1;31m# coerce and try to infer the dtypes of the result\u001b[0m\u001b[1;33m\u001b[0m\u001b[1;33m\u001b[0m\u001b[1;33m\u001b[0m\u001b[0m\n",
      "\u001b[1;31mValueError\u001b[0m: setting an array element with a sequence."
     ]
    }
   ],
   "source": [
    "# Create a colum comprised of tri-grams of the post's text\n",
    "full_df['tokenized'] = full_df['post_text'].apply(lambda x: x.split())\n",
    "\n",
    "blabla = []\n",
    "for row in full_df['tokenized']: # Iterate over each row\n",
    "    generated_3grams = []\n",
    "\n",
    "    for word in row: # iterate over each word in the row\n",
    "        generated_3grams.append(list(ngrams(word, 3, pad_left=True, pad_right=False, left_pad_symbol='_')))\n",
    "\n",
    "    temp_bla = []\n",
    "    for i in generated_3grams:# iterate over each list in the 3gram\n",
    "        for j in i: # iterate over each tuple in the current list\n",
    "            temp_bla.append(j)\n",
    "    blabla.append(temp_bla)\n",
    "    \n",
    "full_df['trigrams'] = 0 \n",
    "full_df = full_df.reset_index().drop('index',axis=1)\n",
    "\n",
    "for i in range(len(full_df['trigrams'])):\n",
    "    full_df['trigrams'][i] = blabla[i]\n",
    "    \n",
    "for i in range(len(full_df['trigrams'])):\n",
    "    ng_list_3grams = full_df['trigrams'][i]\n",
    "    for idx,val in enumerate(full_df['trigrams'][i]):\n",
    "        ng_list_3grams[idx] = ''.join(val)\n",
    "        \n",
    "        \n",
    "    full_df['trigrams'][i] = ng_list_3grams\n",
    "\n",
    "full_df['trigrams'] = full_df['trigrams'].apply(lambda x: ' '.join(x))\n",
    "full_df = full_df.drop('tokenized',axis=1)"
   ]
  },
  {
   "cell_type": "code",
   "execution_count": 30,
   "metadata": {},
   "outputs": [],
   "source": [
    "from liwc import Liwc"
   ]
  },
  {
   "cell_type": "code",
   "execution_count": 31,
   "metadata": {},
   "outputs": [],
   "source": [
    "LIWC_TRAIN_DICT = {}\n",
    "liwc = Liwc(r'LIWC2015_English_Flat.dic')\n",
    "for sent in full_df['post_text']:\n",
    "    LIWC_TRAIN_DICT[sent] = dict(liwc.parse(sent.split(' ')))\n",
    "\n",
    "liwc_df = pd.DataFrame.from_dict(LIWC_TRAIN_DICT, orient='index').fillna(0)\n",
    "liwc_df = liwc_df.reset_index()"
   ]
  },
  {
   "cell_type": "code",
   "execution_count": 32,
   "metadata": {},
   "outputs": [],
   "source": [
    "full_liwc_df = pd.merge(full_df, liwc_df, left_on=['post_text'], right_on=['index'])"
   ]
  },
  {
   "cell_type": "code",
   "execution_count": 33,
   "metadata": {},
   "outputs": [],
   "source": [
    "# Find by using regular expressions all the sentences\n",
    "# which are built in the following way: \"i ...... depress/ed/ion/ants and so on\"\n",
    "\n",
    "count = 0\n",
    "sentences = []\n",
    "post = []\n",
    "subreddits = []\n",
    "for row in full_df.iterrows():\n",
    "    \n",
    "    sentence = row[1]['post_text']\n",
    "    bla = re.findall(r'\\bi\\s.*\\bdepress[\\w]*\\b', sentence)\n",
    "    if len(bla) > 0:\n",
    "#         print(bla)\n",
    "#         print(\"User:\",row[1]['user_name'])\n",
    "#         print(\"Subreddit:\",row[1]['subreddit'])\n",
    "#         print(10*'-')\n",
    "        post.append(row[1]['submission_id'])\n",
    "        subreddits.append(row[1]['subreddit'])\n",
    "        sentences.append(sentence)\n",
    "        count += 1\n",
    "# print(count)"
   ]
  },
  {
   "cell_type": "code",
   "execution_count": 34,
   "metadata": {},
   "outputs": [
    {
     "name": "stdout",
     "output_type": "stream",
     "text": [
      "2887\n"
     ]
    }
   ],
   "source": [
    "count = 0\n",
    "for row in full_df.iterrows():\n",
    "\n",
    "    sentence = row[1]['post_text']\n",
    "    bla = re.findall(\"my[\\w]*\\s.*depress[\\w]*\",sentence)\n",
    "    if len(bla) > 0:\n",
    "#         print(bla)\n",
    "#         print(\"User:\",row[1]['user_name'])\n",
    "#         print(\"Subreddit:\",row[1]['subreddit'])\n",
    "#         print(10*'-')\n",
    "        count += 1\n",
    "print(count)"
   ]
  },
  {
   "cell_type": "code",
   "execution_count": 35,
   "metadata": {},
   "outputs": [
    {
     "data": {
      "text/plain": [
       "3354"
      ]
     },
     "execution_count": 35,
     "metadata": {},
     "output_type": "execute_result"
    }
   ],
   "source": [
    "# Find out how many unique users we found who match our regular expressions - by submission id\n",
    "# this is done to get only their depression related posts and not their entire posts\n",
    "# Later on, we'll take the rest of their post and categorize them as neutral based\n",
    "# this will be our compare group\n",
    "users_filtered_by_re = list(set(post))\n",
    "len(list(set(post)))"
   ]
  },
  {
   "cell_type": "code",
   "execution_count": 36,
   "metadata": {},
   "outputs": [],
   "source": [
    "# Get all the unique users found in the previous step\n",
    "filtered_by_re = full_df[full_df['submission_id'].isin(users_filtered_by_re)].copy()"
   ]
  },
  {
   "cell_type": "code",
   "execution_count": 37,
   "metadata": {},
   "outputs": [],
   "source": [
    "expressed_depression_users = filtered_by_re['user_name'].unique()"
   ]
  },
  {
   "cell_type": "code",
   "execution_count": 38,
   "metadata": {},
   "outputs": [],
   "source": [
    "# Take n largest subreddit by appreance in the filtered dataset\n",
    "# n_largest = list(filtered_by_re['subreddit'].value_counts().nlargest(9).keys())"
   ]
  },
  {
   "cell_type": "code",
   "execution_count": 39,
   "metadata": {},
   "outputs": [],
   "source": [
    "# Create the final depressed testing group to be compared with neutral people\n",
    "# by taking the depressed test group user id's, we can create the group's neutral posts\n",
    "# depressed_group_depressed_posts = filtered_by_re[filtered_by_re['subreddit'].isin(n_largest)]\n",
    "# depression_group_users          = depressed_group_depressed_posts['user_name'].unique()\n",
    "# depression_group_users_indices  = list(set(depressed_group_depressed_posts['user_name'].index))"
   ]
  },
  {
   "cell_type": "markdown",
   "metadata": {},
   "source": [
    "# Fine until here\n",
    "Use the depression group users to find all of their posts who's subreddit is **NOT** classified as depression related\n",
    "\n",
    "DEPRESSION: 1  \n",
    "NEUTRAL: 0"
   ]
  },
  {
   "cell_type": "code",
   "execution_count": 40,
   "metadata": {
    "scrolled": true
   },
   "outputs": [
    {
     "data": {
      "text/html": [
       "<div>\n",
       "<style scoped>\n",
       "    .dataframe tbody tr th:only-of-type {\n",
       "        vertical-align: middle;\n",
       "    }\n",
       "\n",
       "    .dataframe tbody tr th {\n",
       "        vertical-align: top;\n",
       "    }\n",
       "\n",
       "    .dataframe thead th {\n",
       "        text-align: right;\n",
       "    }\n",
       "</style>\n",
       "<table border=\"1\" class=\"dataframe\">\n",
       "  <thead>\n",
       "    <tr style=\"text-align: right;\">\n",
       "      <th></th>\n",
       "      <th>submission_id</th>\n",
       "      <th>title</th>\n",
       "      <th>score</th>\n",
       "      <th>num_comments</th>\n",
       "      <th>title_length</th>\n",
       "      <th>subreddit</th>\n",
       "      <th>post_text</th>\n",
       "      <th>comment_karma</th>\n",
       "      <th>link_karma</th>\n",
       "      <th>upvote_ratio</th>\n",
       "      <th>date_created</th>\n",
       "      <th>user_name</th>\n",
       "      <th>num_words_title</th>\n",
       "      <th>post_length</th>\n",
       "      <th>num_words_post</th>\n",
       "      <th>predicted</th>\n",
       "    </tr>\n",
       "  </thead>\n",
       "  <tbody>\n",
       "    <tr>\n",
       "      <th>0</th>\n",
       "      <td>getaiq</td>\n",
       "      <td>it's gif not gif and it's data not data</td>\n",
       "      <td>0.0</td>\n",
       "      <td>24.0</td>\n",
       "      <td>39.0</td>\n",
       "      <td>unpopularopinion</td>\n",
       "      <td>it’s gif you all are stupid if you pronounce i...</td>\n",
       "      <td>382.0</td>\n",
       "      <td>2878.0</td>\n",
       "      <td>0.38</td>\n",
       "      <td>2020-05-07 00:43:42</td>\n",
       "      <td>animentze</td>\n",
       "      <td>9.0</td>\n",
       "      <td>203.0</td>\n",
       "      <td>45.0</td>\n",
       "      <td>0</td>\n",
       "    </tr>\n",
       "    <tr>\n",
       "      <th>1</th>\n",
       "      <td>ge5eyu</td>\n",
       "      <td>most of us will help a stray animal rather tha...</td>\n",
       "      <td>179.0</td>\n",
       "      <td>47.0</td>\n",
       "      <td>59.0</td>\n",
       "      <td>unpopularopinion</td>\n",
       "      <td>leaving the social media glory aside, we try t...</td>\n",
       "      <td>382.0</td>\n",
       "      <td>2878.0</td>\n",
       "      <td>0.95</td>\n",
       "      <td>2020-05-05 23:26:07</td>\n",
       "      <td>animentze</td>\n",
       "      <td>12.0</td>\n",
       "      <td>516.0</td>\n",
       "      <td>98.0</td>\n",
       "      <td>0</td>\n",
       "    </tr>\n",
       "    <tr>\n",
       "      <th>2</th>\n",
       "      <td>gaer4g</td>\n",
       "      <td>menstruation information should be given to gu...</td>\n",
       "      <td>2025.0</td>\n",
       "      <td>336.0</td>\n",
       "      <td>56.0</td>\n",
       "      <td>unpopularopinion</td>\n",
       "      <td>i think all schools and parents needs to teach...</td>\n",
       "      <td>382.0</td>\n",
       "      <td>2878.0</td>\n",
       "      <td>0.93</td>\n",
       "      <td>2020-04-29 21:32:47</td>\n",
       "      <td>animentze</td>\n",
       "      <td>9.0</td>\n",
       "      <td>601.0</td>\n",
       "      <td>111.0</td>\n",
       "      <td>0</td>\n",
       "    </tr>\n",
       "    <tr>\n",
       "      <th>3</th>\n",
       "      <td>g59ax5</td>\n",
       "      <td>wanting death penality for rape will actually ...</td>\n",
       "      <td>50.0</td>\n",
       "      <td>26.0</td>\n",
       "      <td>65.0</td>\n",
       "      <td>unpopularopinion</td>\n",
       "      <td>i am not here to defend rapists, i also want t...</td>\n",
       "      <td>382.0</td>\n",
       "      <td>2878.0</td>\n",
       "      <td>0.88</td>\n",
       "      <td>2020-04-21 08:22:15</td>\n",
       "      <td>animentze</td>\n",
       "      <td>10.0</td>\n",
       "      <td>889.0</td>\n",
       "      <td>162.0</td>\n",
       "      <td>1</td>\n",
       "    </tr>\n",
       "    <tr>\n",
       "      <th>4</th>\n",
       "      <td>g4i542</td>\n",
       "      <td>things such as relationship goals, friendship ...</td>\n",
       "      <td>24.0</td>\n",
       "      <td>6.0</td>\n",
       "      <td>88.0</td>\n",
       "      <td>unpopularopinion</td>\n",
       "      <td>these ___ goal posts that have infected the so...</td>\n",
       "      <td>382.0</td>\n",
       "      <td>2878.0</td>\n",
       "      <td>0.86</td>\n",
       "      <td>2020-04-20 02:48:48</td>\n",
       "      <td>animentze</td>\n",
       "      <td>13.0</td>\n",
       "      <td>661.0</td>\n",
       "      <td>121.0</td>\n",
       "      <td>1</td>\n",
       "    </tr>\n",
       "  </tbody>\n",
       "</table>\n",
       "</div>"
      ],
      "text/plain": [
       "  submission_id                                              title   score  \\\n",
       "0        getaiq            it's gif not gif and it's data not data     0.0   \n",
       "1        ge5eyu  most of us will help a stray animal rather tha...   179.0   \n",
       "2        gaer4g  menstruation information should be given to gu...  2025.0   \n",
       "3        g59ax5  wanting death penality for rape will actually ...    50.0   \n",
       "4        g4i542  things such as relationship goals, friendship ...    24.0   \n",
       "\n",
       "   num_comments  title_length         subreddit  \\\n",
       "0          24.0          39.0  unpopularopinion   \n",
       "1          47.0          59.0  unpopularopinion   \n",
       "2         336.0          56.0  unpopularopinion   \n",
       "3          26.0          65.0  unpopularopinion   \n",
       "4           6.0          88.0  unpopularopinion   \n",
       "\n",
       "                                           post_text  comment_karma  \\\n",
       "0  it’s gif you all are stupid if you pronounce i...          382.0   \n",
       "1  leaving the social media glory aside, we try t...          382.0   \n",
       "2  i think all schools and parents needs to teach...          382.0   \n",
       "3  i am not here to defend rapists, i also want t...          382.0   \n",
       "4  these ___ goal posts that have infected the so...          382.0   \n",
       "\n",
       "   link_karma  upvote_ratio         date_created  user_name  num_words_title  \\\n",
       "0      2878.0          0.38  2020-05-07 00:43:42  animentze              9.0   \n",
       "1      2878.0          0.95  2020-05-05 23:26:07  animentze             12.0   \n",
       "2      2878.0          0.93  2020-04-29 21:32:47  animentze              9.0   \n",
       "3      2878.0          0.88  2020-04-21 08:22:15  animentze             10.0   \n",
       "4      2878.0          0.86  2020-04-20 02:48:48  animentze             13.0   \n",
       "\n",
       "   post_length  num_words_post  predicted  \n",
       "0        203.0            45.0          0  \n",
       "1        516.0            98.0          0  \n",
       "2        601.0           111.0          0  \n",
       "3        889.0           162.0          1  \n",
       "4        661.0           121.0          1  "
      ]
     },
     "execution_count": 40,
     "metadata": {},
     "output_type": "execute_result"
    }
   ],
   "source": [
    "# Depressed users, neutral posts\n",
    "depression_group_users_full_posts = whole_data[whole_data['user_name'].isin(expressed_depression_users)]\n",
    "# depressed_users_neutral_posts = depression_group_users_full_posts[depression_group_users_full_posts['predicted'] == 0]\n",
    "depressed_users_neutral_posts = depression_group_users_full_posts[~(depression_group_users_full_posts['subreddit'].isin(depression_subreddits))]\n",
    "depressed_users_neutral_posts = depressed_users_neutral_posts[depressed_users_neutral_posts['post_text'] != ''].reset_index(drop=True)\n",
    "depressed_users_neutral_posts.head()"
   ]
  },
  {
   "cell_type": "code",
   "execution_count": 41,
   "metadata": {},
   "outputs": [
    {
     "data": {
      "text/plain": [
       "(1607,)"
      ]
     },
     "execution_count": 41,
     "metadata": {},
     "output_type": "execute_result"
    }
   ],
   "source": [
    "depressed_users_neutral_posts['user_name'].unique().shape"
   ]
  },
  {
   "cell_type": "code",
   "execution_count": 42,
   "metadata": {},
   "outputs": [
    {
     "data": {
      "text/plain": [
       "(24231, 16)"
      ]
     },
     "execution_count": 42,
     "metadata": {},
     "output_type": "execute_result"
    }
   ],
   "source": [
    "depressed_users_neutral_posts.shape"
   ]
  },
  {
   "cell_type": "markdown",
   "metadata": {},
   "source": [
    "# Neutral Users OVERALL\n",
    "\n",
    "To get neutral users, we need users who haven't posted **AT ALL** in any depression related subreddit"
   ]
  },
  {
   "cell_type": "code",
   "execution_count": 43,
   "metadata": {},
   "outputs": [
    {
     "name": "stdout",
     "output_type": "stream",
     "text": [
      "Total Users who posted in depression subreddits:  10906\n"
     ]
    }
   ],
   "source": [
    "users_who_posted_depression_subreddits = whole_data[whole_data['subreddit'].isin(depression_subreddits)]\n",
    "users_who_posted_depression_subreddits = users_who_posted_depression_subreddits['user_name'].unique()\n",
    "print(\"Total Users who posted in depression subreddits: \", users_who_posted_depression_subreddits.shape[0])"
   ]
  },
  {
   "cell_type": "code",
   "execution_count": 44,
   "metadata": {},
   "outputs": [
    {
     "name": "stdout",
     "output_type": "stream",
     "text": [
      "Total amount of users:  16610\n"
     ]
    }
   ],
   "source": [
    "# Get all the users in the dataframe and get the difference between the 2 sets\n",
    "all_users = whole_data['user_name'].unique()\n",
    "print(\"Total amount of users: \", all_users.shape[0])"
   ]
  },
  {
   "cell_type": "code",
   "execution_count": 45,
   "metadata": {},
   "outputs": [
    {
     "name": "stdout",
     "output_type": "stream",
     "text": [
      "Neutral Users who haven't posted in depression subreddits at all:  5704\n"
     ]
    }
   ],
   "source": [
    "neutral_users = np.array(list(set(all_users).difference(set(users_who_posted_depression_subreddits))))\n",
    "print(\"Neutral Users who haven't posted in depression subreddits at all: \", neutral_users.shape[0])"
   ]
  },
  {
   "cell_type": "code",
   "execution_count": 46,
   "metadata": {},
   "outputs": [
    {
     "data": {
      "text/plain": [
       "(138368,)"
      ]
     },
     "execution_count": 46,
     "metadata": {},
     "output_type": "execute_result"
    }
   ],
   "source": [
    "# Get the neutral users posts\n",
    "neutral_users_posts = whole_data[whole_data['user_name'].isin(neutral_users)]\n",
    "neutral_users_posts['subreddit'].shape"
   ]
  },
  {
   "cell_type": "code",
   "execution_count": 47,
   "metadata": {},
   "outputs": [
    {
     "data": {
      "text/plain": [
       "(3262,)"
      ]
     },
     "execution_count": 47,
     "metadata": {},
     "output_type": "execute_result"
    }
   ],
   "source": [
    "neutral_users_posts = neutral_users_posts[neutral_users_posts['post_text'] != ''].reset_index(drop=True)\n",
    "neutral_users_posts['user_name'].unique().shape"
   ]
  },
  {
   "cell_type": "code",
   "execution_count": 48,
   "metadata": {},
   "outputs": [
    {
     "data": {
      "text/plain": [
       "(24496, 16)"
      ]
     },
     "execution_count": 48,
     "metadata": {},
     "output_type": "execute_result"
    }
   ],
   "source": [
    "neutral_users_posts.shape"
   ]
  },
  {
   "cell_type": "code",
   "execution_count": 49,
   "metadata": {},
   "outputs": [
    {
     "data": {
      "text/plain": [
       "{'Dovakhin1906',\n",
       " 'Flimsy_Presence',\n",
       " 'ImNotA_IThink',\n",
       " 'Pacjoke',\n",
       " 'SpaceGeneralAmerica',\n",
       " 'SteliosPo',\n",
       " 'Throwawaykaljrin1178',\n",
       " 'Throwayforasickmind',\n",
       " '_sadboi_69',\n",
       " 'aka-mamas',\n",
       " 'joshd9286',\n",
       " 'ladyluck8569',\n",
       " 'stonerkid10',\n",
       " 'tonkotsuwu'}"
      ]
     },
     "execution_count": 49,
     "metadata": {},
     "output_type": "execute_result"
    }
   ],
   "source": [
    "intersecting_users = set(neutral_users_posts.user_name.unique()).intersection(set(depressed_users_neutral_posts.user_name.unique()))\n",
    "intersecting_users"
   ]
  },
  {
   "cell_type": "code",
   "execution_count": 50,
   "metadata": {},
   "outputs": [],
   "source": [
    "neutral_users_posts           = neutral_users_posts[~(neutral_users_posts['user_name'].isin(intersecting_users))]\n",
    "depressed_users_neutral_posts = depressed_users_neutral_posts[~(depressed_users_neutral_posts['user_name'].isin(intersecting_users))]"
   ]
  },
  {
   "cell_type": "code",
   "execution_count": 51,
   "metadata": {},
   "outputs": [
    {
     "name": "stdout",
     "output_type": "stream",
     "text": [
      "Number of neutral users: 3248, number of samples: 24316\n",
      "Number of depressed users: 1593, number of samples: 24051\n"
     ]
    }
   ],
   "source": [
    "print(f\"Number of neutral users: {neutral_users_posts.user_name.unique().shape[0]}, number of samples: {neutral_users_posts.shape[0]}\")\n",
    "print(f\"Number of depressed users: {depressed_users_neutral_posts.user_name.unique().shape[0]}, number of samples: {depressed_users_neutral_posts.shape[0]}\")"
   ]
  },
  {
   "cell_type": "code",
   "execution_count": 52,
   "metadata": {},
   "outputs": [],
   "source": [
    "neutral_users_posts.to_csv('neutral_users_neutral_posts_v3.csv', index=False)\n",
    "depressed_users_neutral_posts.to_csv('depression_users_neutral_posts_v3.csv', index=False)"
   ]
  },
  {
   "cell_type": "code",
   "execution_count": 56,
   "metadata": {},
   "outputs": [],
   "source": [
    "neutral_users_posts['subreddit'].drop_duplicates(keep='first').to_csv('neutral_subreddits.csv', index=False)"
   ]
  },
  {
   "cell_type": "code",
   "execution_count": 59,
   "metadata": {},
   "outputs": [
    {
     "data": {
      "text/plain": [
       "0             unpopularopinion\n",
       "5                        anime\n",
       "7                         jobs\n",
       "8                       AskMen\n",
       "9                       Advice\n",
       "10                     answers\n",
       "11               Wellthatsucks\n",
       "12             selfimprovement\n",
       "13                       NoFap\n",
       "15               AmItheAsshole\n",
       "16                  offmychest\n",
       "17                socialskills\n",
       "25                DeadBedrooms\n",
       "31              Showerthoughts\n",
       "32                   teenagers\n",
       "34                    dadjokes\n",
       "36                     thesims\n",
       "37                      movies\n",
       "41          CasualConversation\n",
       "42                        self\n",
       "45                 techsupport\n",
       "46                HomeworkHelp\n",
       "47               tipofmytongue\n",
       "48                      AskVet\n",
       "49               socialanxiety\n",
       "51                   learnmath\n",
       "95         relationship_advice\n",
       "98              TrueOffMyChest\n",
       "99       PokemonSwordAndShield\n",
       "105                       rant\n",
       "                 ...          \n",
       "23386                   tumblr\n",
       "23474               raimimemes\n",
       "23479           DeepFriedMemes\n",
       "23483              mildlypenis\n",
       "23486           shittyfoodporn\n",
       "23490        mildlyinteresting\n",
       "23499                      WTF\n",
       "23520             reactiongifs\n",
       "23522        interestingasfuck\n",
       "23538                     puns\n",
       "23540           disneyvacation\n",
       "23557             4PanelCringe\n",
       "23588                  madlads\n",
       "23616             youtubehaiku\n",
       "23623        oldpeoplefacebook\n",
       "23679          fakehistoryporn\n",
       "23683              nottheonion\n",
       "23713             CrappyDesign\n",
       "23714               CozyPlaces\n",
       "23721            photocritique\n",
       "23777                     news\n",
       "23854             starterpacks\n",
       "23855                EarthPorn\n",
       "23872                     Blep\n",
       "23873                  popping\n",
       "23890             thatHappened\n",
       "23896                      CFB\n",
       "23992            OldSchoolCool\n",
       "24018            natureismetal\n",
       "24087        mildlyinfuriating\n",
       "Name: subreddit, Length: 868, dtype: object"
      ]
     },
     "execution_count": 59,
     "metadata": {},
     "output_type": "execute_result"
    }
   ],
   "source": [
    "depressed_users_neutral_posts['subreddit'].drop_duplicates(keep='first').to_csv('depression_')"
   ]
  },
  {
   "cell_type": "code",
   "execution_count": null,
   "metadata": {},
   "outputs": [],
   "source": [
    "neutral_users_posts.subreddit.value_counts()"
   ]
  },
  {
   "cell_type": "code",
   "execution_count": null,
   "metadata": {},
   "outputs": [],
   "source": [
    "depressed_users_neutral_posts.subreddit.value_counts()"
   ]
  },
  {
   "cell_type": "code",
   "execution_count": null,
   "metadata": {},
   "outputs": [],
   "source": [
    "# Create a list of all the possible neutral predicted posts which contain our regular expression\n",
    "temp_list = list(depressed_group_depressed_posts[depressed_group_depressed_posts['predicted'] == 0]['submission_id'].index)"
   ]
  },
  {
   "cell_type": "code",
   "execution_count": null,
   "metadata": {},
   "outputs": [],
   "source": [
    "# First, create the dataset comprised of the same users we have in our depression dataset\n",
    "# Second, take only the neutral related posts of these users\n",
    "# Third, drop out the posts which were filtered by the regular expression and are now considered depression wise\n",
    "# Fourth, Filter out empty posts and keep only the ones above 50 words, this leaves us with an almost similar in size dataset\n",
    "depression_group_users_neutral_posts = full_df[full_df['user_name'].isin(depression_group_users)]\n",
    "depression_group_users_neutral_posts = depression_group_users_neutral_posts[depression_group_users_neutral_posts['predicted'] == 0]\n",
    "depression_group_users_neutral_posts = depression_group_users_neutral_posts.drop(temp_list,axis=0)\n",
    "depression_group_users_neutral_posts = depression_group_users_neutral_posts[depression_group_users_neutral_posts['num_words_post'] > 50]"
   ]
  },
  {
   "cell_type": "code",
   "execution_count": null,
   "metadata": {},
   "outputs": [],
   "source": [
    "# Create a dataset comprised of all the other users who weren't classified as depressed by our regular expression\n",
    "# next, we only want those who we classified by our original classifier, who were predicted as neutral => predicted = 0\n",
    "non_depressed_people = full_df.drop(depression_group_users_indices,axis=0).copy()\n",
    "non_depressed_people = non_depressed_people[non_depressed_people['predicted'] == 0]\n",
    "non_depressed_people = non_depressed_people[non_depressed_people['num_words_post'] > 50]\n",
    "non_depressed_people.shape"
   ]
  },
  {
   "cell_type": "code",
   "execution_count": null,
   "metadata": {},
   "outputs": [],
   "source": [
    "depression_group_users_neutral_posts = depression_group_users_neutral_posts.reset_index().drop('index', axis=1)\n",
    "neutral_total_subreddits = set(depression_group_users_neutral_posts['subreddit'].value_counts().keys())"
   ]
  },
  {
   "cell_type": "code",
   "execution_count": null,
   "metadata": {},
   "outputs": [],
   "source": [
    "filtered_neutral_subreddits = list(set(n_largest) ^ neutral_total_subreddits)"
   ]
  },
  {
   "cell_type": "code",
   "execution_count": null,
   "metadata": {},
   "outputs": [],
   "source": [
    "depression_group_users_neutral_posts = depression_group_users_neutral_posts[depression_group_users_neutral_posts['subreddit'].isin(filtered_neutral_subreddits)]"
   ]
  },
  {
   "cell_type": "code",
   "execution_count": null,
   "metadata": {},
   "outputs": [],
   "source": [
    "depression_group_users_neutral_posts.shape"
   ]
  },
  {
   "cell_type": "code",
   "execution_count": null,
   "metadata": {
    "scrolled": true
   },
   "outputs": [],
   "source": [
    "# Print how many unique users we have for each group:\n",
    "print(\"Number of Unique depressed posts users:\", depressed_group_depressed_posts['user_name'].unique().shape[0])\n",
    "print(\"Number of Unique depressed neutral posts users:\", depression_group_users_neutral_posts['user_name'].unique().shape[0])\n",
    "print(\"Number of Unique neutral posts users\", (non_depressed_people['user_name'].unique().shape[0]))"
   ]
  },
  {
   "cell_type": "code",
   "execution_count": null,
   "metadata": {
    "scrolled": true
   },
   "outputs": [],
   "source": [
    "depressed_group_depressed_posts.shape[0]"
   ]
  },
  {
   "cell_type": "code",
   "execution_count": null,
   "metadata": {},
   "outputs": [],
   "source": [
    "depression_group_users_neutral_posts"
   ]
  },
  {
   "cell_type": "code",
   "execution_count": null,
   "metadata": {},
   "outputs": [],
   "source": [
    "non_depressed_people"
   ]
  },
  {
   "cell_type": "code",
   "execution_count": null,
   "metadata": {},
   "outputs": [],
   "source": [
    "depression_group_users_neutral_posts.shape[0]"
   ]
  },
  {
   "cell_type": "code",
   "execution_count": null,
   "metadata": {},
   "outputs": [],
   "source": [
    "non_depressed_people.shape"
   ]
  },
  {
   "cell_type": "code",
   "execution_count": null,
   "metadata": {},
   "outputs": [],
   "source": [
    "whole_data[whole_data['user_name'] == 'dragonuity']"
   ]
  },
  {
   "cell_type": "code",
   "execution_count": null,
   "metadata": {},
   "outputs": [],
   "source": [
    "(set(non_depressed_people.user_name.unique()).difference(set(depression_group_users_neutral_posts.user_name.unique())))"
   ]
  },
  {
   "cell_type": "code",
   "execution_count": null,
   "metadata": {},
   "outputs": [],
   "source": [
    "CDF_neutral, neutral_indice_list = generate_CDF(data=depression_group_users_neutral_posts)\n",
    "CDF_depression, depression_indice_list = generate_CDF(data=depressed_group_depressed_posts)\n",
    "#CDF_neutral_neutral, neutral_neutral_list = generate_CDF(data= non_depressed_people)\n",
    "\n",
    "plt.figure(figsize=(20,10))\n",
    "plt.plot(neutral_indice_list.values, CDF_neutral,color='green',marker='o', label='Depression - Neutral')\n",
    "plt.plot(depression_indice_list.values, CDF_depression,color='red',marker='^', label='Depression - Depression')\n",
    "#plt.plot(neutral_neutral_list.values, CDF_neutral_neutral,color='blue',marker='*', label='Neutral - Neutral')\n",
    "\n",
    "plt.legend()\n",
    "plt.title(\"Cumulative Distribution Function - Number of words in a post\", size=15)\n",
    "plt.ylabel(\"Percentile\",size=10)\n",
    "plt.xlabel(\"Number Of Words\",size=10)\n",
    "plt.grid()\n",
    "plt.show()"
   ]
  },
  {
   "cell_type": "code",
   "execution_count": null,
   "metadata": {},
   "outputs": [],
   "source": [
    "# Lets drop the predicted column from our test groups\n",
    "non_depressed_people = non_depressed_people.drop('predicted', axis=1)\n",
    "depressed_group_depressed_posts = depressed_group_depressed_posts.drop('predicted', axis=1)\n",
    "\n",
    "non_depressed_people['is_depressed'] = 0\n",
    "depressed_group_depressed_posts['is_depressed'] = 1"
   ]
  },
  {
   "cell_type": "code",
   "execution_count": null,
   "metadata": {},
   "outputs": [],
   "source": [
    "# Combine both datasets\n",
    "depressed_vs_neutral = pd.concat((non_depressed_people, depressed_group_depressed_posts), axis=0)\n",
    "X = depressed_vs_neutral['post_text']\n",
    "y = depressed_vs_neutral['is_depressed']"
   ]
  },
  {
   "cell_type": "code",
   "execution_count": null,
   "metadata": {},
   "outputs": [],
   "source": [
    "# Data transformation => Countvectorizer and Tfidf transformer\n",
    "# removing english stopwords and analyzing on the word level\n",
    "count_vect = CountVectorizer(stop_words='english', lowercase=True,analyzer='word')\n",
    "X = count_vect.fit_transform(X)\n",
    "tfidf_transformer = TfidfTransformer()\n",
    "X = tfidf_transformer.fit_transform(X)"
   ]
  },
  {
   "cell_type": "code",
   "execution_count": null,
   "metadata": {},
   "outputs": [],
   "source": [
    "# Adding the trigrams to our feature matrix\n",
    "tri_grams_X = count_vect.fit_transform(depressed_vs_neutral['trigrams'].values)\n",
    "tri_grams_X = tfidf_transformer.fit_transform(tri_grams_X)\n",
    "#X = hstack((X, tri_grams_X,depressed_vs_neutral[liwc_cols]))"
   ]
  },
  {
   "cell_type": "code",
   "execution_count": null,
   "metadata": {},
   "outputs": [],
   "source": [
    "# Simple 80/20 ratio train/test split \n",
    "X_train, X_test, y_train, y_test = train_test_split(X, y, test_size=0.2, random_state=42)"
   ]
  },
  {
   "cell_type": "code",
   "execution_count": null,
   "metadata": {},
   "outputs": [],
   "source": [
    "# Applying a Linear Support Vector Classifier on our data\n",
    "svc = LinearSVC(random_state=42, penalty='l2', dual= True, tol=0.0001, C = 1,\n",
    "                fit_intercept= True, intercept_scaling=1.0, class_weight= None)\n",
    "svc.fit(X_train, y_train)\n",
    "y_pred = svc.predict(X_test)\n",
    "score = svc.score(X_test, y_test)"
   ]
  },
  {
   "cell_type": "code",
   "execution_count": null,
   "metadata": {},
   "outputs": [],
   "source": [
    "print(\"Accuracy Score:\",score)\n",
    "print(\"AUC Score:\", np.mean(cross_val_score(svc, X_train, y_train, cv=10, scoring='roc_auc')))\n",
    "\n",
    "print(\"\\n\\t# === Confusion Matrix === #\")\n",
    "confusion_matrix_df = pd.DataFrame(data=confusion_matrix(y_pred=y_pred,y_true=y_test))\n",
    "confusion_matrix_df.columns = ['predicted neutral', 'predicted depression']\n",
    "confusion_matrix_df.index = ['actual neutral', 'actual depression']\n",
    "confusion_matrix_df"
   ]
  },
  {
   "cell_type": "code",
   "execution_count": null,
   "metadata": {
    "scrolled": true
   },
   "outputs": [],
   "source": [
    "# Now lets try to classify and destinguish between the depression groups' neutral posts\n",
    "# from the neutral group's posts\n",
    "depression_group_users_neutral_posts = depression_group_users_neutral_posts.drop('predicted', axis=1)\n",
    "depression_group_users_neutral_posts['is_depressed'] = 1"
   ]
  },
  {
   "cell_type": "code",
   "execution_count": null,
   "metadata": {},
   "outputs": [],
   "source": [
    "non_depressed_people = non_depressed_people.iloc[np.random.randint(non_depressed_people.shape[0], size=depression_group_users_neutral_posts.shape[0]), :]\n",
    "print(depression_group_users_neutral_posts.shape)"
   ]
  },
  {
   "cell_type": "code",
   "execution_count": null,
   "metadata": {},
   "outputs": [],
   "source": [
    "depressed_vs_neutral = pd.concat((non_depressed_people, depression_group_users_neutral_posts), axis=0)\n",
    "depressed_vs_neutral = depressed_vs_neutral.reset_index().drop('index',axis=1)\n",
    "X = depressed_vs_neutral['post_text'].map(post_to_wordlist)\n",
    "X_copy = X.copy()\n",
    "y = depressed_vs_neutral['is_depressed']"
   ]
  },
  {
   "cell_type": "markdown",
   "metadata": {},
   "source": [
    "count_vect = CountVectorizer(stop_words='english', lowercase=True,analyzer='word', ngram_range=(1,1))\n",
    "X = count_vect.fit_transform(X)\n",
    "#tfidf_transformer = TfidfTransformer()\n",
    "#X = tfidf_transformer.fit_transform(X)"
   ]
  },
  {
   "cell_type": "markdown",
   "metadata": {},
   "source": [
    "X_train, X_test, y_train, y_test = train_test_split(X, y, test_size=0.2, random_state=42)\n",
    "svc = LinearSVC(random_state=42, penalty='l2', dual= True, tol=0.0001, C = 100,\n",
    "                fit_intercept= True, intercept_scaling=1.0, class_weight= None)\n",
    "svc.fit(X_train, y_train)"
   ]
  },
  {
   "cell_type": "markdown",
   "metadata": {},
   "source": [
    "dummy_pred = svc.predict(X_test)\n",
    "confusion_matrix(y_pred=dummy_pred, y_true= y_test)"
   ]
  },
  {
   "cell_type": "markdown",
   "metadata": {},
   "source": [
    "# Problem is we rely on these words as most efficient to our classifier for future use\n",
    "# this is not correct since the classifier doesn't produce good output (the confusion matrix above)\n",
    "feature_names = count_vect.get_feature_names()\n",
    "sorted_coef_index = svc.coef_[0].argsort()[:4000]\n",
    "top_keywords = list(itemgetter(*sorted_coef_index)(feature_names))\n",
    "print(top_keywords[:20])"
   ]
  },
  {
   "cell_type": "markdown",
   "metadata": {},
   "source": [
    "cv = CountVectorizer(stop_words='english', lowercase=True,analyzer='word', ngram_range=(1,1))\n",
    "cv_matrix = cv.fit_transform(X_copy)\n",
    "tfidf_transformer = TfidfTransformer()\n",
    "cv_matrix = cv_matrix.toarray()\n",
    "vocab = cv.get_feature_names()\n",
    "vocab_df = pd.DataFrame(cv_matrix, columns=vocab)\n",
    "hot_keywords = vocab_df[top_keywords]\n",
    "hot_keywords = hot_keywords.divide(depressed_vs_neutral['post_length'], axis=0)"
   ]
  },
  {
   "cell_type": "code",
   "execution_count": null,
   "metadata": {},
   "outputs": [],
   "source": [
    "stopWords = set(stopwords.words('english'))\n",
    "\n",
    "num_words = 20000\n",
    "corpus = depressed_vs_neutral['post_text'].copy()\n",
    "corpus = corpus.str.replace('[', '')\n",
    "corpus = corpus.str.replace(']','')\n",
    "corpus = corpus.str.replace('.','')\n",
    "corpus = corpus.str.replace('(','')\n",
    "corpus = corpus.replace(')','')\n",
    "corpus_copy = corpus.copy()\n",
    "corpus = corpus.str.cat().split()\n",
    "corpus = [word for word in corpus if word not in stopWords]\n",
    "\n",
    "corpus_series = pd.Series(data=corpus, name='words')\n",
    "top_keywords = corpus_series.value_counts().nlargest(num_words)#(len(corpus_series.value_counts()))\n",
    "key_words = pd.DataFrame(data=np.zeros((X.shape[0], num_words)), columns=top_keywords.keys())\n",
    "#key_words = pd.DataFrame(data=np.zeros((X.shape[0], len(corpus_series.value_counts()))), columns=top_keywords.keys())"
   ]
  },
  {
   "cell_type": "code",
   "execution_count": null,
   "metadata": {},
   "outputs": [],
   "source": [
    "for row in range(len(corpus_copy)):\n",
    "    for word in corpus_copy[row]:\n",
    "        if word in key_words.columns:\n",
    "            key_words[word][row] += 1\n",
    "        else:\n",
    "            pass"
   ]
  },
  {
   "cell_type": "code",
   "execution_count": null,
   "metadata": {},
   "outputs": [],
   "source": [
    "# Apply our CV and Tfidf on the trigrams\n",
    "# Eventually, creating a large matrix comprised of the fit user normal posts and the trigrams\n",
    "\n",
    "tri_grams_X = count_vect.fit_transform(depressed_vs_neutral['trigrams'].values)\n",
    "tri_grams_X = tfidf_transformer.fit_transform(tri_grams_X)\n",
    "#X = hstack((X, tri_grams_X,depressed_vs_neutral[liwc_cols]))"
   ]
  },
  {
   "cell_type": "code",
   "execution_count": null,
   "metadata": {},
   "outputs": [],
   "source": [
    "# Adding the normalized features of post length and the number of distinct words per user\n",
    "\n",
    "extra_features = normalize(depressed_vs_neutral[['post_length','num_distinct_words']], axis=1)\n",
    "extra_features = pd.DataFrame(data=extra_features, columns=['post_length', 'num_distinct_words'])\n",
    "#X = hstack((X, extra_features))"
   ]
  },
  {
   "cell_type": "code",
   "execution_count": null,
   "metadata": {},
   "outputs": [],
   "source": [
    "X = depressed_vs_neutral[liwc_cols]\n",
    "print(X.shape)\n",
    "X = X.reset_index().drop('index', axis=1)\n",
    "X = pd.concat((X,key_words), axis=1)\n",
    "X_columns = X.columns\n",
    "norm = Normalizer()\n",
    "X = norm.fit_transform(X)\n",
    "X.shape"
   ]
  },
  {
   "cell_type": "code",
   "execution_count": null,
   "metadata": {},
   "outputs": [],
   "source": [
    "pca = PCA(.95)\n",
    "X = pca.fit_transform(X)\n",
    "X.shape"
   ]
  },
  {
   "cell_type": "code",
   "execution_count": null,
   "metadata": {},
   "outputs": [],
   "source": [
    "X_train, X_test, y_train, y_test = train_test_split(X, y, test_size=0.2, random_state=42)"
   ]
  },
  {
   "cell_type": "code",
   "execution_count": null,
   "metadata": {},
   "outputs": [],
   "source": [
    "svc = LinearSVC(random_state=42, penalty='l2', dual= True, tol=0.0001, C = 10,\n",
    "                fit_intercept= True, intercept_scaling=1.0, class_weight= None)\n",
    "svc.fit(X_train, y_train)\n",
    "y_pred = svc.predict(X_test)\n",
    "score = svc.score(X_test, y_test)"
   ]
  },
  {
   "cell_type": "code",
   "execution_count": null,
   "metadata": {},
   "outputs": [],
   "source": [
    "print(\"Accuracy Score:\",score)\n",
    "print(\"AUC Score:\", np.mean(cross_val_score(svc, X_train, y_train, cv=10, scoring='roc_auc')))\n",
    "\n",
    "print(\"\\n\\t# === Confusion Matrix === #\")\n",
    "confusion_matrix_df = pd.DataFrame(data=confusion_matrix(y_pred=y_pred,y_true=y_test))\n",
    "confusion_matrix_df.columns = ['predicted neutral', 'predicted depression']\n",
    "confusion_matrix_df.index = ['actual neutral', 'actual depression']\n",
    "confusion_matrix_df"
   ]
  },
  {
   "cell_type": "code",
   "execution_count": null,
   "metadata": {},
   "outputs": [],
   "source": [
    "X_train = pd.DataFrame(data=X_train, columns=np.arange(X_train.shape[1]))\n",
    "coef = list(sorted(zip(X_train.columns,abs(svc.coef_[0])),key=lambda x: x[1]))\n",
    "coef_table = pd.DataFrame(np.array(coef).reshape(-1,2),columns=['Attributes','Coefficient'])\n",
    "print('Coefficient for every feature:\\n')\n",
    "#print(len(coef_table[coef_table['Coefficient'] == '0.0']))\n",
    "print(coef_table)"
   ]
  },
  {
   "cell_type": "code",
   "execution_count": null,
   "metadata": {},
   "outputs": [],
   "source": [
    "for i in coef_table.Attributes:\n",
    "    print(\"Variance for {} vector: {}\".format(i,pca.explained_variance_ratio_[int(i)]))"
   ]
  },
  {
   "cell_type": "markdown",
   "metadata": {},
   "source": [
    "###### Print Smallest and Largest important feature words\n",
    "feature_names = np.array(count_vect.get_feature_names())\n",
    "sorted_coef_index = svc.coef_[0].argsort()\n",
    "\n",
    "print('Smallest Coefs: \\n{}\\n'.format(feature_names[sorted_coef_index[:10]]))\n",
    "print('Largest Coefs: \\n{}\\n'.format(feature_names[sorted_coef_index[:-11:-1]]))"
   ]
  },
  {
   "cell_type": "code",
   "execution_count": null,
   "metadata": {},
   "outputs": [],
   "source": [
    "def display_topics(model, feature_names, no_top_words):\n",
    "    for topic_idx, topic in enumerate(model.components_):\n",
    "        print(\"Topic {}:\".format(topic_idx))\n",
    "        print(\" \".join([feature_names[i] for i in topic.argsort()[:-no_top_words -1:-1]]))\n",
    "        \n",
    "no_features = 1000\n",
    "\n",
    "tfidf_vectorizer = TfidfVectorizer(max_df=.95, min_df=2, max_features=no_features, stop_words='english')\n",
    "tfidf = tfidf_vectorizer.fit_transform(depression_group_users_neutral_posts['post_text'])\n",
    "tfidf_feature_names = tfidf_vectorizer.get_feature_names()\n",
    "\n",
    "tf_vectorizer = CountVectorizer(max_df=.95, min_df=2, max_features=no_features, stop_words='english')\n",
    "tf = tf_vectorizer.fit_transform(depression_group_users_neutral_posts['post_text'])\n",
    "tf_feature_names = tf_vectorizer.get_feature_names()"
   ]
  },
  {
   "cell_type": "code",
   "execution_count": null,
   "metadata": {},
   "outputs": [],
   "source": [
    "no_topics = 10\n",
    "\n",
    "nmf = NMF(n_components=no_topics, random_state = 42, alpha=.1, l1_ratio=.5, init='nndsvd')\n",
    "nmf.fit(tfidf)\n",
    "\n",
    "lda = LatentDirichletAllocation(n_topics=no_topics, max_iter=5, learning_method='online', learning_offset=50, random_state=42)\n",
    "lda.fit(tf)"
   ]
  },
  {
   "cell_type": "code",
   "execution_count": null,
   "metadata": {},
   "outputs": [],
   "source": [
    "no_top_words = 10\n",
    "display_topics(nmf, tfidf_feature_names, no_top_words)\n",
    "print(\"-------------------------------\")\n",
    "display_topics(lda, tf_feature_names, no_top_words)"
   ]
  },
  {
   "cell_type": "code",
   "execution_count": null,
   "metadata": {},
   "outputs": [],
   "source": [
    "# Generate Word Clouds for each group\n",
    "texts = [non_depressed_people, depressed_group_depressed_posts, depression_group_users_neutral_posts]\n",
    "titles = ['non_depressed_people', 'depressed_group_depressed_posts', 'depression_group_users_neutral_posts']\n",
    "for i,x in zip(texts,titles):\n",
    "    generate_wordcloud(text=i,title=x)"
   ]
  },
  {
   "cell_type": "code",
   "execution_count": null,
   "metadata": {},
   "outputs": [],
   "source": [
    "liwc_temp_df = depressed_vs_neutral[liwc_cols].copy()\n",
    "pca = PCA(n_components=2)\n",
    "\n",
    "liwc_temp_df = pca.fit_transform(liwc_temp_df)\n",
    "liwc_temp_df.shape\n",
    "plt.scatter(data=liwc_temp_df, x=liwc_temp_df[:,0], y=liwc_temp_df[:, 1])\n",
    "plt.grid()\n",
    "plt.show()"
   ]
  },
  {
   "cell_type": "code",
   "execution_count": null,
   "metadata": {},
   "outputs": [],
   "source": [
    "from sklearn.cluster import KMeans\n",
    "wcss = []\n",
    "for i in range(1, 16):\n",
    "    kmeans = KMeans(n_clusters = i, init = 'k-means++')\n",
    "    kmeans.fit(liwc_temp_df)\n",
    "    wcss.append(kmeans.inertia_)\n",
    "\n",
    "with plt.style.context(('fivethirtyeight')):\n",
    "    plt.figure(figsize=(10,6))\n",
    "    plt.plot(range(1, 16), wcss)\n",
    "    plt.show()\n"
   ]
  },
  {
   "cell_type": "code",
   "execution_count": null,
   "metadata": {},
   "outputs": [],
   "source": [
    "from sklearn.cluster import AgglomerativeClustering\n",
    "hc = AgglomerativeClustering(n_clusters = 3, affinity = 'euclidean', linkage = 'ward')\n",
    "y_hc = hc.fit_predict(liwc_temp_df)\n"
   ]
  },
  {
   "cell_type": "code",
   "execution_count": null,
   "metadata": {},
   "outputs": [],
   "source": [
    "liwc_temp_df = np.column_stack((liwc_temp_df, depressed_vs_neutral['is_depressed'].values))\n",
    "print(depressed_vs_neutral['is_depressed'].value_counts())\n",
    "plt.figure(figsize=(10,7))\n",
    "plt.scatter(data=liwc_temp_df, x=liwc_temp_df[:,0][liwc_temp_df[:,2] == 0], y=liwc_temp_df[:,1][liwc_temp_df[:,2] == 0], label='not depressed')\n",
    "plt.scatter(data=liwc_temp_df, x=liwc_temp_df[:,0][liwc_temp_df[:,2] == 1], y=liwc_temp_df[:,1][liwc_temp_df[:,2] == 1], label='depressed')\n",
    "plt.grid()\n",
    "plt.legend()\n",
    "plt.show()"
   ]
  },
  {
   "cell_type": "code",
   "execution_count": null,
   "metadata": {},
   "outputs": [],
   "source": [
    "plt.figure(figsize=(12,7))\n",
    "plt.scatter(liwc_temp_df[y_hc == 0, 0],liwc_temp_df[y_hc == 0, 1] , s = 100, c = 'red')\n",
    "plt.scatter(liwc_temp_df[y_hc == 1, 0],liwc_temp_df[y_hc == 1, 1] , s = 100, c = 'blue')\n",
    "plt.scatter(liwc_temp_df[y_hc == 2, 0],liwc_temp_df[y_hc == 2, 1] , s = 100, c = 'green')\n",
    "plt.grid(True)\n",
    "plt.show()"
   ]
  },
  {
   "cell_type": "code",
   "execution_count": null,
   "metadata": {},
   "outputs": [],
   "source": [
    "#X = depressed_vs_neutral['post_text']\n",
    "#y = depressed_vs_neutral['is_depressed']\n",
    "#X = liwc_temp_df\n",
    "#count_vect = CountVectorizer(stop_words='english', analyzer='word', ngram_range=(2,2), lowercase=True, binary=True)\n",
    "#X  = count_vect.fit_transform(X)"
   ]
  },
  {
   "cell_type": "code",
   "execution_count": null,
   "metadata": {},
   "outputs": [],
   "source": [
    "from keras.preprocessing.text import one_hot\n",
    "from keras.preprocessing.sequence import pad_sequences\n",
    "vocab_size = 1000\n",
    "corpus = depressed_vs_neutral['post_text'].copy()\n",
    "encoded_corpus = [one_hot(d, vocab_size) for d in corpus]\n",
    "\n",
    "# pad corpus\n",
    "max_length = 1000\n",
    "padded_docs = pad_sequences(encoded_corpus, maxlen=max_length, padding='post')"
   ]
  },
  {
   "cell_type": "code",
   "execution_count": null,
   "metadata": {},
   "outputs": [],
   "source": [
    "X_train, X_test, y_train, y_test = train_test_split(padded_docs, y, test_size = 0.2, random_state = 42)\n",
    "print(X_train.shape[0])"
   ]
  },
  {
   "cell_type": "code",
   "execution_count": null,
   "metadata": {},
   "outputs": [],
   "source": [
    "from keras.models import Sequential\n",
    "from keras.layers import Dense, Activation, Dropout, Flatten, regularizers, Embedding, Flatten\n",
    "\n",
    "model = Sequential()\n",
    "model.add(Embedding(vocab_size, 10, input_length=max_length))\n",
    "model.add(Flatten())\n",
    "\n",
    "model.add(Dense(1000, bias_regularizer=regularizers.l2(.5)))\n",
    "model.add(Activation('relu'))\n",
    "\n",
    "model.add(Dense(500, bias_regularizer=regularizers.l2(.5)))\n",
    "model.add(Activation('relu'))\n",
    "\n",
    "model.add(Dense(500, bias_regularizer=regularizers.l2(.5)))\n",
    "model.add(Activation('relu'))\n",
    "\n",
    "model.add(Dense(1))\n",
    "model.add(Activation('sigmoid'))"
   ]
  },
  {
   "cell_type": "code",
   "execution_count": null,
   "metadata": {},
   "outputs": [],
   "source": [
    "# Using binary crossentropy loss function because we have a binary classification problem\n",
    "model.compile(loss='binary_crossentropy', optimizer='adam', metrics=['accuracy'])\n",
    "print(model.metrics_names)"
   ]
  },
  {
   "cell_type": "code",
   "execution_count": null,
   "metadata": {},
   "outputs": [],
   "source": [
    "batch_size = 1024\n",
    "n_epohcs = 30\n",
    "\n",
    "history = model.fit(X_train, y_train, batch_size=batch_size, epochs=n_epohcs, verbose=True, validation_split=0.1)\n",
    "score = model.evaluate(X_test, y_test, batch_size=batch_size, verbose=True)"
   ]
  },
  {
   "cell_type": "code",
   "execution_count": null,
   "metadata": {},
   "outputs": [],
   "source": [
    "scores = model.evaluate(X_test, y_test, verbose=1)\n",
    "print(\"Accuracy:\", scores[1]) "
   ]
  },
  {
   "cell_type": "code",
   "execution_count": null,
   "metadata": {},
   "outputs": [],
   "source": [
    "y_pred = model.predict(X_test, batch_size=batch_size)\n",
    "y_pred = [1 if p >= 0.5 else 0 for p in y_pred]\n",
    "print(confusion_matrix(y_pred=y_pred,y_true=y_test))\n",
    "model.summary()"
   ]
  },
  {
   "cell_type": "markdown",
   "metadata": {},
   "source": [
    "###### Future code block for creating a new liwc dataframe\n",
    "temp_df = full_df[full_df['post_length'] > 0][['post_text','submission_id']].copy()\n",
    "for i in liwc_cols:\n",
    "    temp_df[i] = i\n",
    "temp_df = temp_df.reset_index().drop('index',axis=1)\n",
    "temp_df.head()"
   ]
  },
  {
   "cell_type": "markdown",
   "metadata": {},
   "source": [
    "##### Run this block if you want to create an LIWC dataframe\n",
    "liwc_obj = liwc_analysis(temp_df['post_text'][0])\n",
    "\n",
    "temp = pd.DataFrame(data=liwc_obj, index=[0])\n",
    "blu = pd.Series(data=temp_df['submission_id'][0],name='submission_id')\n",
    "temp = pd.concat((temp,blu),axis=1)\n",
    "for i in range(1, len(temp_df)):\n",
    "    print(i)\n",
    "    text = liwc_analysis(temp_df['post_text'][i])\n",
    "    temp_obj = pd.DataFrame(data=text, index=[0])\n",
    "    temp_series = pd.Series(data=full_df['submission_id'][i], name='submission_id')\n",
    "    temp_obj = pd.concat((temp_obj, temp_series), axis=1)\n",
    "    temp = pd.concat((temp, temp_obj), axis=0)\n",
    "\n",
    "\n",
    "temp.to_csv('temp2.csv')\n"
   ]
  },
  {
   "cell_type": "code",
   "execution_count": null,
   "metadata": {},
   "outputs": [],
   "source": [
    "from gensim.models import word2vec\n",
    "import multiprocessing\n",
    "num_features = 100   # Dimensionality of the hidden layer representation\n",
    "min_word_count = 40   # Minimum word count to keep a word in the vocabulary\n",
    "num_workers = multiprocessing.cpu_count()      # Number of threads to run in parallel set to total number of cpus.\n",
    "context = 5          # Context window size (on each side)                                                       \n",
    "downsampling = 1e-3\n",
    "\n",
    "print(\"Training model...\")\n",
    "model = word2vec.Word2Vec(depressed_vs_neutral.post_text, workers=num_workers, \\\n",
    "            size=num_features, min_count = min_word_count, \\\n",
    "            window = context, sample = downsampling);"
   ]
  },
  {
   "cell_type": "code",
   "execution_count": null,
   "metadata": {},
   "outputs": [],
   "source": [
    "Z = model.wv.syn0\n",
    "\n",
    "print(Z[0].shape)\n",
    "Z.shape"
   ]
  },
  {
   "cell_type": "code",
   "execution_count": null,
   "metadata": {},
   "outputs": [],
   "source": [
    "df.columns"
   ]
  },
  {
   "cell_type": "code",
   "execution_count": null,
   "metadata": {},
   "outputs": [],
   "source": [
    "tdelta = datetime.strptime(s2, FMT)\n",
    "\n",
    "from datetime import datetime\n",
    "s1 = '10:33:26'\n",
    "s2 = '11:15:49' # for example\n",
    "FMT = '%Y-%m-%d %H:%M:%S'"
   ]
  },
  {
   "cell_type": "code",
   "execution_count": null,
   "metadata": {},
   "outputs": [],
   "source": [
    "from datetime import datetime as dt\n",
    "FMT = '%Y-%m-%d %H:%M:%S'\n",
    "S = '2018-12-07 12:23:09'\n",
    "F = '2018-12-07 15:03:56'\n",
    "tdelta = dt.strptime(S,FMT) - dt.strptime(F,FMT)"
   ]
  },
  {
   "cell_type": "code",
   "execution_count": null,
   "metadata": {},
   "outputs": [],
   "source": [
    "df['time_delta'] = df['_date_created'].apply(lambda x: dt.strptime(x, FMT))"
   ]
  },
  {
   "cell_type": "code",
   "execution_count": null,
   "metadata": {},
   "outputs": [],
   "source": [
    "df"
   ]
  },
  {
   "cell_type": "code",
   "execution_count": null,
   "metadata": {},
   "outputs": [],
   "source": [
    "temp_temp = df[df['_user_name'] == 'alpacaballs']['time_delta'].sort_values(ascending=False)"
   ]
  },
  {
   "cell_type": "code",
   "execution_count": null,
   "metadata": {},
   "outputs": [],
   "source": [
    "temp_temp.shape"
   ]
  },
  {
   "cell_type": "code",
   "execution_count": null,
   "metadata": {},
   "outputs": [],
   "source": [
    "tdelta_array = np.zeros((temp_temp.shape[0],))"
   ]
  },
  {
   "cell_type": "code",
   "execution_count": null,
   "metadata": {},
   "outputs": [],
   "source": [
    "for i in temp_temp:\n",
    "    print(i)"
   ]
  },
  {
   "cell_type": "code",
   "execution_count": null,
   "metadata": {},
   "outputs": [],
   "source": [
    "temp_temp = df[['_user_name','_date_created','_submission_id','time_delta']].sort_values(by='_user_name')"
   ]
  },
  {
   "cell_type": "code",
   "execution_count": null,
   "metadata": {},
   "outputs": [],
   "source": [
    "for name in temp_temp['_user_name']:\n",
    "    temp_time_df = df[df['_user_name'] == name]\n",
    "    temp_time_df = temp_time_df.sort_values(by='_date_created', ascending=False)\n",
    "    if len(temp_time_df) == 1:\n",
    "        df['time_delta'][temp_time_df.index] = 0\n",
    "    else:\n",
    "        pass"
   ]
  },
  {
   "cell_type": "code",
   "execution_count": null,
   "metadata": {},
   "outputs": [],
   "source": [
    "temp_time_df = df[df['_user_name'] == name]\n",
    "temp_time_df.shape"
   ]
  },
  {
   "cell_type": "code",
   "execution_count": null,
   "metadata": {},
   "outputs": [],
   "source": []
  }
 ],
 "metadata": {
  "kernelspec": {
   "display_name": "Python 3",
   "language": "python",
   "name": "python3"
  },
  "language_info": {
   "codemirror_mode": {
    "name": "ipython",
    "version": 3
   },
   "file_extension": ".py",
   "mimetype": "text/x-python",
   "name": "python",
   "nbconvert_exporter": "python",
   "pygments_lexer": "ipython3",
   "version": "3.7.1"
  }
 },
 "nbformat": 4,
 "nbformat_minor": 2
}
